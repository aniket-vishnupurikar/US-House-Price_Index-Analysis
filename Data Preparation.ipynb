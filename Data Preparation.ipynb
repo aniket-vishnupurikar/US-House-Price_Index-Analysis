{
 "cells": [
  {
   "cell_type": "code",
   "execution_count": 388,
   "id": "00ede52a",
   "metadata": {},
   "outputs": [],
   "source": [
    "import numpy as np\n",
    "import pandas as pd\n",
    "from matplotlib import pyplot as plt\n",
    "import seaborn as sns\n",
    "import numpy as np\n",
    "import pandas as pd \n",
    "from sklearn.impute import SimpleImputer\n",
    "from sklearn.preprocessing import MinMaxScaler\n",
    "from sklearn.model_selection import train_test_split, cross_val_score\n",
    "from sklearn.linear_model import LinearRegression\n",
    "from sklearn.tree import DecisionTreeRegressor\n",
    "from sklearn.ensemble import RandomForestRegressor\n",
    "from sklearn.svm import SVR\n",
    "from sklearn.neural_network import MLPRegressor\n",
    "from sklearn.metrics import mean_squared_error"
   ]
  },
  {
   "cell_type": "markdown",
   "id": "eced80f6",
   "metadata": {},
   "source": [
    "# Collect data for each feature from CSV files downloaded from web"
   ]
  },
  {
   "cell_type": "markdown",
   "id": "dbc41fde",
   "metadata": {},
   "source": [
    "## HPI : Target Feature"
   ]
  },
  {
   "cell_type": "markdown",
   "id": "c575486d",
   "metadata": {},
   "source": [
    "S&P/Case-Shiller U.S. National Home Price Index (Index Jan 2000=100, Seasonally Adjusted). The \"S&P/Case-Shiller U.S. National Home Price Index\" is a widely recognized and respected measure of changes in residential real estate prices in the United States. It is published by S&P Dow Jones Indices and CoreLogic and is often referred to simply as the \"Case-Shiller Index.\" The index is designed to track the relative changes in the prices of single-family homes over time. Here \"Index Jan 2000=100\" specifies the base period for the index. It sets the index value for January 2000 as 100, and all subsequent index values are expressed relative to this base. For example, if the index value for a later date is 150, it means that home prices have increased by 50% since January 2000."
   ]
  },
  {
   "cell_type": "code",
   "execution_count": 389,
   "id": "7fdf261a",
   "metadata": {},
   "outputs": [],
   "source": [
    "hpi = pd.read_csv(\"data/HPI.csv\")"
   ]
  },
  {
   "cell_type": "code",
   "execution_count": 390,
   "id": "c962232f",
   "metadata": {},
   "outputs": [],
   "source": [
    "hpi.rename(columns = {\"CSUSHPINSA\":\"HPI\"}, inplace = True)"
   ]
  },
  {
   "cell_type": "code",
   "execution_count": 391,
   "id": "794eb9cd",
   "metadata": {},
   "outputs": [],
   "source": [
    "hpi['Date'] = pd.to_datetime(hpi['DATE'])\n",
    "hpi.drop([\"DATE\"], axis = 1, inplace = True)"
   ]
  },
  {
   "cell_type": "code",
   "execution_count": 392,
   "id": "7573b254",
   "metadata": {},
   "outputs": [
    {
     "data": {
      "text/html": [
       "<div>\n",
       "<style scoped>\n",
       "    .dataframe tbody tr th:only-of-type {\n",
       "        vertical-align: middle;\n",
       "    }\n",
       "\n",
       "    .dataframe tbody tr th {\n",
       "        vertical-align: top;\n",
       "    }\n",
       "\n",
       "    .dataframe thead th {\n",
       "        text-align: right;\n",
       "    }\n",
       "</style>\n",
       "<table border=\"1\" class=\"dataframe\">\n",
       "  <thead>\n",
       "    <tr style=\"text-align: right;\">\n",
       "      <th></th>\n",
       "      <th>HPI</th>\n",
       "      <th>Date</th>\n",
       "    </tr>\n",
       "  </thead>\n",
       "  <tbody>\n",
       "    <tr>\n",
       "      <th>0</th>\n",
       "      <td>100.000</td>\n",
       "      <td>2000-01-01</td>\n",
       "    </tr>\n",
       "    <tr>\n",
       "      <th>1</th>\n",
       "      <td>100.571</td>\n",
       "      <td>2000-02-01</td>\n",
       "    </tr>\n",
       "    <tr>\n",
       "      <th>2</th>\n",
       "      <td>101.466</td>\n",
       "      <td>2000-03-01</td>\n",
       "    </tr>\n",
       "    <tr>\n",
       "      <th>3</th>\n",
       "      <td>102.540</td>\n",
       "      <td>2000-04-01</td>\n",
       "    </tr>\n",
       "    <tr>\n",
       "      <th>4</th>\n",
       "      <td>103.701</td>\n",
       "      <td>2000-05-01</td>\n",
       "    </tr>\n",
       "  </tbody>\n",
       "</table>\n",
       "</div>"
      ],
      "text/plain": [
       "       HPI       Date\n",
       "0  100.000 2000-01-01\n",
       "1  100.571 2000-02-01\n",
       "2  101.466 2000-03-01\n",
       "3  102.540 2000-04-01\n",
       "4  103.701 2000-05-01"
      ]
     },
     "execution_count": 392,
     "metadata": {},
     "output_type": "execute_result"
    }
   ],
   "source": [
    "hpi.head()"
   ]
  },
  {
   "cell_type": "code",
   "execution_count": 393,
   "id": "42d10949",
   "metadata": {},
   "outputs": [
    {
     "data": {
      "text/plain": [
       "Timestamp('2023-06-01 00:00:00')"
      ]
     },
     "execution_count": 393,
     "metadata": {},
     "output_type": "execute_result"
    }
   ],
   "source": [
    "hpi[\"Date\"].max()"
   ]
  },
  {
   "cell_type": "code",
   "execution_count": 394,
   "id": "ac7b1850",
   "metadata": {},
   "outputs": [
    {
     "data": {
      "text/plain": [
       "Timestamp('2000-01-01 00:00:00')"
      ]
     },
     "execution_count": 394,
     "metadata": {},
     "output_type": "execute_result"
    }
   ],
   "source": [
    "hpi[\"Date\"].min()"
   ]
  },
  {
   "cell_type": "markdown",
   "id": "590e9909",
   "metadata": {},
   "source": [
    "**hpi has monthly frequency with minimum date as \"2000-01-01\" and maximum date as \"2023-06-01**\""
   ]
  },
  {
   "cell_type": "markdown",
   "id": "ab077441",
   "metadata": {},
   "source": [
    "## Demand Features"
   ]
  },
  {
   "cell_type": "markdown",
   "id": "629d17ad",
   "metadata": {},
   "source": [
    "### Interest Rates, Discount Rate for United States"
   ]
  },
  {
   "cell_type": "code",
   "execution_count": 395,
   "id": "0febdf82",
   "metadata": {},
   "outputs": [],
   "source": [
    "interest = pd.read_csv(\"data/demand/Interest_discount.csv\")"
   ]
  },
  {
   "cell_type": "code",
   "execution_count": 396,
   "id": "59f5f327",
   "metadata": {},
   "outputs": [],
   "source": [
    "interest.rename(columns = {\"INTDSRUSM193N\":\"InterestDiscount\"}, inplace = True)"
   ]
  },
  {
   "cell_type": "code",
   "execution_count": 397,
   "id": "d4e39e42",
   "metadata": {},
   "outputs": [],
   "source": [
    "interest['Date'] = pd.to_datetime(interest['DATE'])\n",
    "interest.drop([\"DATE\"], axis = 1, inplace = True)"
   ]
  },
  {
   "cell_type": "code",
   "execution_count": 398,
   "id": "5e3cb435",
   "metadata": {},
   "outputs": [
    {
     "data": {
      "text/html": [
       "<div>\n",
       "<style scoped>\n",
       "    .dataframe tbody tr th:only-of-type {\n",
       "        vertical-align: middle;\n",
       "    }\n",
       "\n",
       "    .dataframe tbody tr th {\n",
       "        vertical-align: top;\n",
       "    }\n",
       "\n",
       "    .dataframe thead th {\n",
       "        text-align: right;\n",
       "    }\n",
       "</style>\n",
       "<table border=\"1\" class=\"dataframe\">\n",
       "  <thead>\n",
       "    <tr style=\"text-align: right;\">\n",
       "      <th></th>\n",
       "      <th>InterestDiscount</th>\n",
       "      <th>Date</th>\n",
       "    </tr>\n",
       "  </thead>\n",
       "  <tbody>\n",
       "    <tr>\n",
       "      <th>0</th>\n",
       "      <td>5.00</td>\n",
       "      <td>2000-01-01</td>\n",
       "    </tr>\n",
       "    <tr>\n",
       "      <th>1</th>\n",
       "      <td>5.24</td>\n",
       "      <td>2000-02-01</td>\n",
       "    </tr>\n",
       "    <tr>\n",
       "      <th>2</th>\n",
       "      <td>5.34</td>\n",
       "      <td>2000-03-01</td>\n",
       "    </tr>\n",
       "    <tr>\n",
       "      <th>3</th>\n",
       "      <td>5.50</td>\n",
       "      <td>2000-04-01</td>\n",
       "    </tr>\n",
       "    <tr>\n",
       "      <th>4</th>\n",
       "      <td>5.71</td>\n",
       "      <td>2000-05-01</td>\n",
       "    </tr>\n",
       "  </tbody>\n",
       "</table>\n",
       "</div>"
      ],
      "text/plain": [
       "   InterestDiscount       Date\n",
       "0              5.00 2000-01-01\n",
       "1              5.24 2000-02-01\n",
       "2              5.34 2000-03-01\n",
       "3              5.50 2000-04-01\n",
       "4              5.71 2000-05-01"
      ]
     },
     "execution_count": 398,
     "metadata": {},
     "output_type": "execute_result"
    }
   ],
   "source": [
    "interest.head()"
   ]
  },
  {
   "cell_type": "code",
   "execution_count": 399,
   "id": "c6d1a425",
   "metadata": {},
   "outputs": [
    {
     "data": {
      "text/plain": [
       "Timestamp('2021-08-01 00:00:00')"
      ]
     },
     "execution_count": 399,
     "metadata": {},
     "output_type": "execute_result"
    }
   ],
   "source": [
    "interest[\"Date\"].max()"
   ]
  },
  {
   "cell_type": "code",
   "execution_count": 400,
   "id": "b35ba2de",
   "metadata": {},
   "outputs": [
    {
     "data": {
      "text/plain": [
       "Timestamp('2000-01-01 00:00:00')"
      ]
     },
     "execution_count": 400,
     "metadata": {},
     "output_type": "execute_result"
    }
   ],
   "source": [
    "interest[\"Date\"].min()"
   ]
  },
  {
   "cell_type": "markdown",
   "id": "91592584",
   "metadata": {},
   "source": [
    "**interest has monthly frequency with minimum date as \"2000-01-01\" and maximum date as \"2021-08-01**\""
   ]
  },
  {
   "cell_type": "markdown",
   "id": "0010b4c5",
   "metadata": {},
   "source": [
    "### 30-Year Fixed Rate Mortgage Average in the United States"
   ]
  },
  {
   "cell_type": "code",
   "execution_count": 401,
   "id": "cd4aea18",
   "metadata": {},
   "outputs": [],
   "source": [
    "mortgage = pd.read_csv(\"data/demand/Mortgage Avg 30 YRS.csv\")"
   ]
  },
  {
   "cell_type": "code",
   "execution_count": 402,
   "id": "ab2f0071",
   "metadata": {},
   "outputs": [
    {
     "data": {
      "text/html": [
       "<div>\n",
       "<style scoped>\n",
       "    .dataframe tbody tr th:only-of-type {\n",
       "        vertical-align: middle;\n",
       "    }\n",
       "\n",
       "    .dataframe tbody tr th {\n",
       "        vertical-align: top;\n",
       "    }\n",
       "\n",
       "    .dataframe thead th {\n",
       "        text-align: right;\n",
       "    }\n",
       "</style>\n",
       "<table border=\"1\" class=\"dataframe\">\n",
       "  <thead>\n",
       "    <tr style=\"text-align: right;\">\n",
       "      <th></th>\n",
       "      <th>DATE</th>\n",
       "      <th>MORTGAGE30US</th>\n",
       "    </tr>\n",
       "  </thead>\n",
       "  <tbody>\n",
       "    <tr>\n",
       "      <th>0</th>\n",
       "      <td>2000-01-01</td>\n",
       "      <td>8.2100</td>\n",
       "    </tr>\n",
       "    <tr>\n",
       "      <th>1</th>\n",
       "      <td>2000-02-01</td>\n",
       "      <td>8.3250</td>\n",
       "    </tr>\n",
       "    <tr>\n",
       "      <th>2</th>\n",
       "      <td>2000-03-01</td>\n",
       "      <td>8.2400</td>\n",
       "    </tr>\n",
       "    <tr>\n",
       "      <th>3</th>\n",
       "      <td>2000-04-01</td>\n",
       "      <td>8.1525</td>\n",
       "    </tr>\n",
       "    <tr>\n",
       "      <th>4</th>\n",
       "      <td>2000-05-01</td>\n",
       "      <td>8.5150</td>\n",
       "    </tr>\n",
       "    <tr>\n",
       "      <th>...</th>\n",
       "      <td>...</td>\n",
       "      <td>...</td>\n",
       "    </tr>\n",
       "    <tr>\n",
       "      <th>279</th>\n",
       "      <td>2023-04-01</td>\n",
       "      <td>6.3425</td>\n",
       "    </tr>\n",
       "    <tr>\n",
       "      <th>280</th>\n",
       "      <td>2023-05-01</td>\n",
       "      <td>6.4250</td>\n",
       "    </tr>\n",
       "    <tr>\n",
       "      <th>281</th>\n",
       "      <td>2023-06-01</td>\n",
       "      <td>6.7140</td>\n",
       "    </tr>\n",
       "    <tr>\n",
       "      <th>282</th>\n",
       "      <td>2023-07-01</td>\n",
       "      <td>6.8400</td>\n",
       "    </tr>\n",
       "    <tr>\n",
       "      <th>283</th>\n",
       "      <td>2023-08-01</td>\n",
       "      <td>7.0720</td>\n",
       "    </tr>\n",
       "  </tbody>\n",
       "</table>\n",
       "<p>284 rows × 2 columns</p>\n",
       "</div>"
      ],
      "text/plain": [
       "           DATE  MORTGAGE30US\n",
       "0    2000-01-01        8.2100\n",
       "1    2000-02-01        8.3250\n",
       "2    2000-03-01        8.2400\n",
       "3    2000-04-01        8.1525\n",
       "4    2000-05-01        8.5150\n",
       "..          ...           ...\n",
       "279  2023-04-01        6.3425\n",
       "280  2023-05-01        6.4250\n",
       "281  2023-06-01        6.7140\n",
       "282  2023-07-01        6.8400\n",
       "283  2023-08-01        7.0720\n",
       "\n",
       "[284 rows x 2 columns]"
      ]
     },
     "execution_count": 402,
     "metadata": {},
     "output_type": "execute_result"
    }
   ],
   "source": [
    "mortgage"
   ]
  },
  {
   "cell_type": "code",
   "execution_count": 403,
   "id": "098e5265",
   "metadata": {},
   "outputs": [],
   "source": [
    "mortgage.rename(columns = {\"MORTGAGE30US\":\"Avg Mortgage\"}, inplace = True)"
   ]
  },
  {
   "cell_type": "code",
   "execution_count": 404,
   "id": "c21a4675",
   "metadata": {},
   "outputs": [],
   "source": [
    "mortgage['Date'] = pd.to_datetime(mortgage['DATE'])\n",
    "mortgage.drop([\"DATE\"], axis = 1, inplace = True)"
   ]
  },
  {
   "cell_type": "code",
   "execution_count": 405,
   "id": "1e113806",
   "metadata": {},
   "outputs": [
    {
     "data": {
      "text/html": [
       "<div>\n",
       "<style scoped>\n",
       "    .dataframe tbody tr th:only-of-type {\n",
       "        vertical-align: middle;\n",
       "    }\n",
       "\n",
       "    .dataframe tbody tr th {\n",
       "        vertical-align: top;\n",
       "    }\n",
       "\n",
       "    .dataframe thead th {\n",
       "        text-align: right;\n",
       "    }\n",
       "</style>\n",
       "<table border=\"1\" class=\"dataframe\">\n",
       "  <thead>\n",
       "    <tr style=\"text-align: right;\">\n",
       "      <th></th>\n",
       "      <th>Avg Mortgage</th>\n",
       "      <th>Date</th>\n",
       "    </tr>\n",
       "  </thead>\n",
       "  <tbody>\n",
       "    <tr>\n",
       "      <th>0</th>\n",
       "      <td>8.2100</td>\n",
       "      <td>2000-01-01</td>\n",
       "    </tr>\n",
       "    <tr>\n",
       "      <th>1</th>\n",
       "      <td>8.3250</td>\n",
       "      <td>2000-02-01</td>\n",
       "    </tr>\n",
       "    <tr>\n",
       "      <th>2</th>\n",
       "      <td>8.2400</td>\n",
       "      <td>2000-03-01</td>\n",
       "    </tr>\n",
       "    <tr>\n",
       "      <th>3</th>\n",
       "      <td>8.1525</td>\n",
       "      <td>2000-04-01</td>\n",
       "    </tr>\n",
       "    <tr>\n",
       "      <th>4</th>\n",
       "      <td>8.5150</td>\n",
       "      <td>2000-05-01</td>\n",
       "    </tr>\n",
       "  </tbody>\n",
       "</table>\n",
       "</div>"
      ],
      "text/plain": [
       "   Avg Mortgage       Date\n",
       "0        8.2100 2000-01-01\n",
       "1        8.3250 2000-02-01\n",
       "2        8.2400 2000-03-01\n",
       "3        8.1525 2000-04-01\n",
       "4        8.5150 2000-05-01"
      ]
     },
     "execution_count": 405,
     "metadata": {},
     "output_type": "execute_result"
    }
   ],
   "source": [
    "mortgage.head()"
   ]
  },
  {
   "cell_type": "code",
   "execution_count": 406,
   "id": "db89485c",
   "metadata": {},
   "outputs": [
    {
     "data": {
      "text/plain": [
       "Timestamp('2023-08-01 00:00:00')"
      ]
     },
     "execution_count": 406,
     "metadata": {},
     "output_type": "execute_result"
    }
   ],
   "source": [
    "mortgage[\"Date\"].max()"
   ]
  },
  {
   "cell_type": "code",
   "execution_count": 407,
   "id": "a4ce5771",
   "metadata": {},
   "outputs": [
    {
     "data": {
      "text/plain": [
       "Timestamp('2000-01-01 00:00:00')"
      ]
     },
     "execution_count": 407,
     "metadata": {},
     "output_type": "execute_result"
    }
   ],
   "source": [
    "mortgage[\"Date\"].min()"
   ]
  },
  {
   "cell_type": "markdown",
   "id": "c4cb1ba8",
   "metadata": {},
   "source": [
    "**Avg Mortgage has monthly frequency with minimum date as \"2000-01-01\" and maximum date as \"2023-08-01. We will consider until 2023-06-01**\""
   ]
  },
  {
   "cell_type": "markdown",
   "id": "af96a8be",
   "metadata": {},
   "source": [
    "### GDP Per Capita"
   ]
  },
  {
   "cell_type": "code",
   "execution_count": 408,
   "id": "5fe3fd33",
   "metadata": {},
   "outputs": [],
   "source": [
    "gdp = pd.read_csv(\"data/demand/GDP.csv\")"
   ]
  },
  {
   "cell_type": "code",
   "execution_count": 409,
   "id": "41e49b7e",
   "metadata": {},
   "outputs": [
    {
     "data": {
      "text/html": [
       "<div>\n",
       "<style scoped>\n",
       "    .dataframe tbody tr th:only-of-type {\n",
       "        vertical-align: middle;\n",
       "    }\n",
       "\n",
       "    .dataframe tbody tr th {\n",
       "        vertical-align: top;\n",
       "    }\n",
       "\n",
       "    .dataframe thead th {\n",
       "        text-align: right;\n",
       "    }\n",
       "</style>\n",
       "<table border=\"1\" class=\"dataframe\">\n",
       "  <thead>\n",
       "    <tr style=\"text-align: right;\">\n",
       "      <th></th>\n",
       "      <th>DATE</th>\n",
       "      <th>A939RX0Q048SBEA</th>\n",
       "    </tr>\n",
       "  </thead>\n",
       "  <tbody>\n",
       "    <tr>\n",
       "      <th>0</th>\n",
       "      <td>2000-01-01</td>\n",
       "      <td>45983.0</td>\n",
       "    </tr>\n",
       "    <tr>\n",
       "      <th>1</th>\n",
       "      <td>2000-04-01</td>\n",
       "      <td>46704.0</td>\n",
       "    </tr>\n",
       "    <tr>\n",
       "      <th>2</th>\n",
       "      <td>2000-07-01</td>\n",
       "      <td>46624.0</td>\n",
       "    </tr>\n",
       "    <tr>\n",
       "      <th>3</th>\n",
       "      <td>2000-10-01</td>\n",
       "      <td>46777.0</td>\n",
       "    </tr>\n",
       "    <tr>\n",
       "      <th>4</th>\n",
       "      <td>2001-01-01</td>\n",
       "      <td>46519.0</td>\n",
       "    </tr>\n",
       "    <tr>\n",
       "      <th>...</th>\n",
       "      <td>...</td>\n",
       "      <td>...</td>\n",
       "    </tr>\n",
       "    <tr>\n",
       "      <th>89</th>\n",
       "      <td>2022-04-01</td>\n",
       "      <td>59688.0</td>\n",
       "    </tr>\n",
       "    <tr>\n",
       "      <th>90</th>\n",
       "      <td>2022-07-01</td>\n",
       "      <td>60080.0</td>\n",
       "    </tr>\n",
       "    <tr>\n",
       "      <th>91</th>\n",
       "      <td>2022-10-01</td>\n",
       "      <td>60376.0</td>\n",
       "    </tr>\n",
       "    <tr>\n",
       "      <th>92</th>\n",
       "      <td>2023-01-01</td>\n",
       "      <td>60611.0</td>\n",
       "    </tr>\n",
       "    <tr>\n",
       "      <th>93</th>\n",
       "      <td>2023-04-01</td>\n",
       "      <td>60852.0</td>\n",
       "    </tr>\n",
       "  </tbody>\n",
       "</table>\n",
       "<p>94 rows × 2 columns</p>\n",
       "</div>"
      ],
      "text/plain": [
       "          DATE  A939RX0Q048SBEA\n",
       "0   2000-01-01          45983.0\n",
       "1   2000-04-01          46704.0\n",
       "2   2000-07-01          46624.0\n",
       "3   2000-10-01          46777.0\n",
       "4   2001-01-01          46519.0\n",
       "..         ...              ...\n",
       "89  2022-04-01          59688.0\n",
       "90  2022-07-01          60080.0\n",
       "91  2022-10-01          60376.0\n",
       "92  2023-01-01          60611.0\n",
       "93  2023-04-01          60852.0\n",
       "\n",
       "[94 rows x 2 columns]"
      ]
     },
     "execution_count": 409,
     "metadata": {},
     "output_type": "execute_result"
    }
   ],
   "source": [
    "gdp"
   ]
  },
  {
   "cell_type": "code",
   "execution_count": 410,
   "id": "0d9d4b8d",
   "metadata": {},
   "outputs": [],
   "source": [
    "gdp.rename(columns = {\"A939RX0Q048SBEA\":\"gdp\"}, inplace = True)"
   ]
  },
  {
   "cell_type": "code",
   "execution_count": 411,
   "id": "c3498878",
   "metadata": {},
   "outputs": [],
   "source": [
    "gdp['Date'] = pd.to_datetime(gdp['DATE'])\n",
    "gdp.drop([\"DATE\"], axis = 1, inplace = True)"
   ]
  },
  {
   "cell_type": "code",
   "execution_count": 412,
   "id": "9246afd9",
   "metadata": {},
   "outputs": [
    {
     "data": {
      "text/html": [
       "<div>\n",
       "<style scoped>\n",
       "    .dataframe tbody tr th:only-of-type {\n",
       "        vertical-align: middle;\n",
       "    }\n",
       "\n",
       "    .dataframe tbody tr th {\n",
       "        vertical-align: top;\n",
       "    }\n",
       "\n",
       "    .dataframe thead th {\n",
       "        text-align: right;\n",
       "    }\n",
       "</style>\n",
       "<table border=\"1\" class=\"dataframe\">\n",
       "  <thead>\n",
       "    <tr style=\"text-align: right;\">\n",
       "      <th></th>\n",
       "      <th>gdp</th>\n",
       "      <th>Date</th>\n",
       "    </tr>\n",
       "  </thead>\n",
       "  <tbody>\n",
       "    <tr>\n",
       "      <th>0</th>\n",
       "      <td>45983.0</td>\n",
       "      <td>2000-01-01</td>\n",
       "    </tr>\n",
       "    <tr>\n",
       "      <th>1</th>\n",
       "      <td>46704.0</td>\n",
       "      <td>2000-04-01</td>\n",
       "    </tr>\n",
       "    <tr>\n",
       "      <th>2</th>\n",
       "      <td>46624.0</td>\n",
       "      <td>2000-07-01</td>\n",
       "    </tr>\n",
       "    <tr>\n",
       "      <th>3</th>\n",
       "      <td>46777.0</td>\n",
       "      <td>2000-10-01</td>\n",
       "    </tr>\n",
       "    <tr>\n",
       "      <th>4</th>\n",
       "      <td>46519.0</td>\n",
       "      <td>2001-01-01</td>\n",
       "    </tr>\n",
       "  </tbody>\n",
       "</table>\n",
       "</div>"
      ],
      "text/plain": [
       "       gdp       Date\n",
       "0  45983.0 2000-01-01\n",
       "1  46704.0 2000-04-01\n",
       "2  46624.0 2000-07-01\n",
       "3  46777.0 2000-10-01\n",
       "4  46519.0 2001-01-01"
      ]
     },
     "execution_count": 412,
     "metadata": {},
     "output_type": "execute_result"
    }
   ],
   "source": [
    "gdp.head()"
   ]
  },
  {
   "cell_type": "code",
   "execution_count": 413,
   "id": "63514de2",
   "metadata": {},
   "outputs": [
    {
     "data": {
      "text/plain": [
       "Timestamp('2023-04-01 00:00:00')"
      ]
     },
     "execution_count": 413,
     "metadata": {},
     "output_type": "execute_result"
    }
   ],
   "source": [
    "gdp[\"Date\"].max()"
   ]
  },
  {
   "cell_type": "code",
   "execution_count": 414,
   "id": "64f9c7c1",
   "metadata": {},
   "outputs": [
    {
     "data": {
      "text/plain": [
       "Timestamp('2000-01-01 00:00:00')"
      ]
     },
     "execution_count": 414,
     "metadata": {},
     "output_type": "execute_result"
    }
   ],
   "source": [
    "gdp[\"Date\"].min()"
   ]
  },
  {
   "cell_type": "markdown",
   "id": "db24b7fa",
   "metadata": {},
   "source": [
    "**gdp has quarterly frequency with minimum date as \"2000-01-01\" and maximum date as \"2023-04-01\". We will consider until 2023-06-01**\""
   ]
  },
  {
   "cell_type": "markdown",
   "id": "b3077b8e",
   "metadata": {},
   "source": [
    "**We need to interpolate gdp to make it monthly frequency**"
   ]
  },
  {
   "cell_type": "markdown",
   "id": "eaed802a",
   "metadata": {},
   "source": [
    "### Consumer Sentiment"
   ]
  },
  {
   "cell_type": "code",
   "execution_count": 415,
   "id": "9ba1e8b6",
   "metadata": {},
   "outputs": [],
   "source": [
    "consumer_sentiment = pd.read_csv(\"data/demand/consmer sentiment.csv\")"
   ]
  },
  {
   "cell_type": "code",
   "execution_count": 416,
   "id": "89940d5d",
   "metadata": {},
   "outputs": [
    {
     "data": {
      "text/html": [
       "<div>\n",
       "<style scoped>\n",
       "    .dataframe tbody tr th:only-of-type {\n",
       "        vertical-align: middle;\n",
       "    }\n",
       "\n",
       "    .dataframe tbody tr th {\n",
       "        vertical-align: top;\n",
       "    }\n",
       "\n",
       "    .dataframe thead th {\n",
       "        text-align: right;\n",
       "    }\n",
       "</style>\n",
       "<table border=\"1\" class=\"dataframe\">\n",
       "  <thead>\n",
       "    <tr style=\"text-align: right;\">\n",
       "      <th></th>\n",
       "      <th>Month</th>\n",
       "      <th>Year</th>\n",
       "      <th>Index</th>\n",
       "    </tr>\n",
       "  </thead>\n",
       "  <tbody>\n",
       "    <tr>\n",
       "      <th>0</th>\n",
       "      <td>1</td>\n",
       "      <td>2000</td>\n",
       "      <td>112.0</td>\n",
       "    </tr>\n",
       "    <tr>\n",
       "      <th>1</th>\n",
       "      <td>2</td>\n",
       "      <td>2000</td>\n",
       "      <td>111.3</td>\n",
       "    </tr>\n",
       "    <tr>\n",
       "      <th>2</th>\n",
       "      <td>3</td>\n",
       "      <td>2000</td>\n",
       "      <td>107.1</td>\n",
       "    </tr>\n",
       "    <tr>\n",
       "      <th>3</th>\n",
       "      <td>4</td>\n",
       "      <td>2000</td>\n",
       "      <td>109.2</td>\n",
       "    </tr>\n",
       "    <tr>\n",
       "      <th>4</th>\n",
       "      <td>5</td>\n",
       "      <td>2000</td>\n",
       "      <td>110.7</td>\n",
       "    </tr>\n",
       "    <tr>\n",
       "      <th>...</th>\n",
       "      <td>...</td>\n",
       "      <td>...</td>\n",
       "      <td>...</td>\n",
       "    </tr>\n",
       "    <tr>\n",
       "      <th>278</th>\n",
       "      <td>3</td>\n",
       "      <td>2023</td>\n",
       "      <td>62.0</td>\n",
       "    </tr>\n",
       "    <tr>\n",
       "      <th>279</th>\n",
       "      <td>4</td>\n",
       "      <td>2023</td>\n",
       "      <td>63.5</td>\n",
       "    </tr>\n",
       "    <tr>\n",
       "      <th>280</th>\n",
       "      <td>5</td>\n",
       "      <td>2023</td>\n",
       "      <td>59.2</td>\n",
       "    </tr>\n",
       "    <tr>\n",
       "      <th>281</th>\n",
       "      <td>6</td>\n",
       "      <td>2023</td>\n",
       "      <td>64.4</td>\n",
       "    </tr>\n",
       "    <tr>\n",
       "      <th>282</th>\n",
       "      <td>7</td>\n",
       "      <td>2023</td>\n",
       "      <td>71.6</td>\n",
       "    </tr>\n",
       "  </tbody>\n",
       "</table>\n",
       "<p>283 rows × 3 columns</p>\n",
       "</div>"
      ],
      "text/plain": [
       "     Month  Year  Index\n",
       "0        1  2000  112.0\n",
       "1        2  2000  111.3\n",
       "2        3  2000  107.1\n",
       "3        4  2000  109.2\n",
       "4        5  2000  110.7\n",
       "..     ...   ...    ...\n",
       "278      3  2023   62.0\n",
       "279      4  2023   63.5\n",
       "280      5  2023   59.2\n",
       "281      6  2023   64.4\n",
       "282      7  2023   71.6\n",
       "\n",
       "[283 rows x 3 columns]"
      ]
     },
     "execution_count": 416,
     "metadata": {},
     "output_type": "execute_result"
    }
   ],
   "source": [
    "consumer_sentiment"
   ]
  },
  {
   "cell_type": "code",
   "execution_count": 417,
   "id": "ee8fa758",
   "metadata": {},
   "outputs": [],
   "source": [
    "# Create a datetime column from 'Year' and 'Month'\n",
    "consumer_sentiment['Date'] = pd.to_datetime(consumer_sentiment[['Year', 'Month']].assign(day=1))"
   ]
  },
  {
   "cell_type": "code",
   "execution_count": 418,
   "id": "14ca576b",
   "metadata": {},
   "outputs": [],
   "source": [
    "consumer_sentiment.drop([\"Month\", \"Year\"], inplace = True, axis = 1)"
   ]
  },
  {
   "cell_type": "code",
   "execution_count": 419,
   "id": "ed00b99f",
   "metadata": {},
   "outputs": [],
   "source": [
    "consumer_sentiment.rename(columns = {\"Index\":\"Cons. Sentiment Index\"}, inplace = True)"
   ]
  },
  {
   "cell_type": "code",
   "execution_count": 420,
   "id": "2350a150",
   "metadata": {},
   "outputs": [
    {
     "data": {
      "text/html": [
       "<div>\n",
       "<style scoped>\n",
       "    .dataframe tbody tr th:only-of-type {\n",
       "        vertical-align: middle;\n",
       "    }\n",
       "\n",
       "    .dataframe tbody tr th {\n",
       "        vertical-align: top;\n",
       "    }\n",
       "\n",
       "    .dataframe thead th {\n",
       "        text-align: right;\n",
       "    }\n",
       "</style>\n",
       "<table border=\"1\" class=\"dataframe\">\n",
       "  <thead>\n",
       "    <tr style=\"text-align: right;\">\n",
       "      <th></th>\n",
       "      <th>Cons. Sentiment Index</th>\n",
       "      <th>Date</th>\n",
       "    </tr>\n",
       "  </thead>\n",
       "  <tbody>\n",
       "    <tr>\n",
       "      <th>0</th>\n",
       "      <td>112.0</td>\n",
       "      <td>2000-01-01</td>\n",
       "    </tr>\n",
       "    <tr>\n",
       "      <th>1</th>\n",
       "      <td>111.3</td>\n",
       "      <td>2000-02-01</td>\n",
       "    </tr>\n",
       "    <tr>\n",
       "      <th>2</th>\n",
       "      <td>107.1</td>\n",
       "      <td>2000-03-01</td>\n",
       "    </tr>\n",
       "    <tr>\n",
       "      <th>3</th>\n",
       "      <td>109.2</td>\n",
       "      <td>2000-04-01</td>\n",
       "    </tr>\n",
       "    <tr>\n",
       "      <th>4</th>\n",
       "      <td>110.7</td>\n",
       "      <td>2000-05-01</td>\n",
       "    </tr>\n",
       "  </tbody>\n",
       "</table>\n",
       "</div>"
      ],
      "text/plain": [
       "   Cons. Sentiment Index       Date\n",
       "0                  112.0 2000-01-01\n",
       "1                  111.3 2000-02-01\n",
       "2                  107.1 2000-03-01\n",
       "3                  109.2 2000-04-01\n",
       "4                  110.7 2000-05-01"
      ]
     },
     "execution_count": 420,
     "metadata": {},
     "output_type": "execute_result"
    }
   ],
   "source": [
    "consumer_sentiment.head()"
   ]
  },
  {
   "cell_type": "code",
   "execution_count": 421,
   "id": "2b979b01",
   "metadata": {},
   "outputs": [
    {
     "data": {
      "text/plain": [
       "Timestamp('2023-07-01 00:00:00')"
      ]
     },
     "execution_count": 421,
     "metadata": {},
     "output_type": "execute_result"
    }
   ],
   "source": [
    "consumer_sentiment[\"Date\"].max()"
   ]
  },
  {
   "cell_type": "code",
   "execution_count": 422,
   "id": "d78d6d72",
   "metadata": {},
   "outputs": [
    {
     "data": {
      "text/plain": [
       "Timestamp('2000-01-01 00:00:00')"
      ]
     },
     "execution_count": 422,
     "metadata": {},
     "output_type": "execute_result"
    }
   ],
   "source": [
    "consumer_sentiment[\"Date\"].min()"
   ]
  },
  {
   "cell_type": "markdown",
   "id": "a8994800",
   "metadata": {},
   "source": [
    "**consumer sentiment index has monthly frequency with minimum date as \"2000-01-01\" and maximum date as \"2023-07-01\". We will consider until 2023-06-01**\""
   ]
  },
  {
   "cell_type": "markdown",
   "id": "2da32cbd",
   "metadata": {},
   "source": [
    "### Inflation"
   ]
  },
  {
   "cell_type": "code",
   "execution_count": 423,
   "id": "52455cdb",
   "metadata": {},
   "outputs": [
    {
     "data": {
      "text/html": [
       "<div>\n",
       "<style scoped>\n",
       "    .dataframe tbody tr th:only-of-type {\n",
       "        vertical-align: middle;\n",
       "    }\n",
       "\n",
       "    .dataframe tbody tr th {\n",
       "        vertical-align: top;\n",
       "    }\n",
       "\n",
       "    .dataframe thead th {\n",
       "        text-align: right;\n",
       "    }\n",
       "</style>\n",
       "<table border=\"1\" class=\"dataframe\">\n",
       "  <thead>\n",
       "    <tr style=\"text-align: right;\">\n",
       "      <th></th>\n",
       "      <th>DATE</th>\n",
       "      <th>CPALTT01USM657N</th>\n",
       "    </tr>\n",
       "  </thead>\n",
       "  <tbody>\n",
       "    <tr>\n",
       "      <th>0</th>\n",
       "      <td>2000-01-01</td>\n",
       "      <td>0.297089</td>\n",
       "    </tr>\n",
       "    <tr>\n",
       "      <th>1</th>\n",
       "      <td>2000-02-01</td>\n",
       "      <td>0.592417</td>\n",
       "    </tr>\n",
       "    <tr>\n",
       "      <th>2</th>\n",
       "      <td>2000-03-01</td>\n",
       "      <td>0.824499</td>\n",
       "    </tr>\n",
       "    <tr>\n",
       "      <th>3</th>\n",
       "      <td>2000-04-01</td>\n",
       "      <td>0.058411</td>\n",
       "    </tr>\n",
       "    <tr>\n",
       "      <th>4</th>\n",
       "      <td>2000-05-01</td>\n",
       "      <td>0.116754</td>\n",
       "    </tr>\n",
       "    <tr>\n",
       "      <th>...</th>\n",
       "      <td>...</td>\n",
       "      <td>...</td>\n",
       "    </tr>\n",
       "    <tr>\n",
       "      <th>277</th>\n",
       "      <td>2023-02-01</td>\n",
       "      <td>0.558211</td>\n",
       "    </tr>\n",
       "    <tr>\n",
       "      <th>278</th>\n",
       "      <td>2023-03-01</td>\n",
       "      <td>0.331073</td>\n",
       "    </tr>\n",
       "    <tr>\n",
       "      <th>279</th>\n",
       "      <td>2023-04-01</td>\n",
       "      <td>0.505904</td>\n",
       "    </tr>\n",
       "    <tr>\n",
       "      <th>280</th>\n",
       "      <td>2023-05-01</td>\n",
       "      <td>0.251844</td>\n",
       "    </tr>\n",
       "    <tr>\n",
       "      <th>281</th>\n",
       "      <td>2023-06-01</td>\n",
       "      <td>0.322891</td>\n",
       "    </tr>\n",
       "  </tbody>\n",
       "</table>\n",
       "<p>282 rows × 2 columns</p>\n",
       "</div>"
      ],
      "text/plain": [
       "           DATE  CPALTT01USM657N\n",
       "0    2000-01-01         0.297089\n",
       "1    2000-02-01         0.592417\n",
       "2    2000-03-01         0.824499\n",
       "3    2000-04-01         0.058411\n",
       "4    2000-05-01         0.116754\n",
       "..          ...              ...\n",
       "277  2023-02-01         0.558211\n",
       "278  2023-03-01         0.331073\n",
       "279  2023-04-01         0.505904\n",
       "280  2023-05-01         0.251844\n",
       "281  2023-06-01         0.322891\n",
       "\n",
       "[282 rows x 2 columns]"
      ]
     },
     "execution_count": 423,
     "metadata": {},
     "output_type": "execute_result"
    }
   ],
   "source": [
    "cpi = pd.read_csv(\"data/demand/cpi.csv\")\n",
    "cpi"
   ]
  },
  {
   "cell_type": "code",
   "execution_count": 424,
   "id": "fde0f821",
   "metadata": {},
   "outputs": [],
   "source": [
    "cpi.rename(columns = {\"CPALTT01USM657N\":\"cpi\"}, inplace = True)\n"
   ]
  },
  {
   "cell_type": "code",
   "execution_count": 425,
   "id": "0c2e3acf",
   "metadata": {},
   "outputs": [],
   "source": [
    "cpi['Date'] = pd.to_datetime(cpi['DATE'])\n",
    "cpi.drop([\"DATE\"], axis = 1, inplace = True)"
   ]
  },
  {
   "cell_type": "code",
   "execution_count": 426,
   "id": "0b53b952",
   "metadata": {},
   "outputs": [
    {
     "data": {
      "text/html": [
       "<div>\n",
       "<style scoped>\n",
       "    .dataframe tbody tr th:only-of-type {\n",
       "        vertical-align: middle;\n",
       "    }\n",
       "\n",
       "    .dataframe tbody tr th {\n",
       "        vertical-align: top;\n",
       "    }\n",
       "\n",
       "    .dataframe thead th {\n",
       "        text-align: right;\n",
       "    }\n",
       "</style>\n",
       "<table border=\"1\" class=\"dataframe\">\n",
       "  <thead>\n",
       "    <tr style=\"text-align: right;\">\n",
       "      <th></th>\n",
       "      <th>cpi</th>\n",
       "      <th>Date</th>\n",
       "    </tr>\n",
       "  </thead>\n",
       "  <tbody>\n",
       "    <tr>\n",
       "      <th>0</th>\n",
       "      <td>0.297089</td>\n",
       "      <td>2000-01-01</td>\n",
       "    </tr>\n",
       "    <tr>\n",
       "      <th>1</th>\n",
       "      <td>0.592417</td>\n",
       "      <td>2000-02-01</td>\n",
       "    </tr>\n",
       "    <tr>\n",
       "      <th>2</th>\n",
       "      <td>0.824499</td>\n",
       "      <td>2000-03-01</td>\n",
       "    </tr>\n",
       "    <tr>\n",
       "      <th>3</th>\n",
       "      <td>0.058411</td>\n",
       "      <td>2000-04-01</td>\n",
       "    </tr>\n",
       "    <tr>\n",
       "      <th>4</th>\n",
       "      <td>0.116754</td>\n",
       "      <td>2000-05-01</td>\n",
       "    </tr>\n",
       "  </tbody>\n",
       "</table>\n",
       "</div>"
      ],
      "text/plain": [
       "        cpi       Date\n",
       "0  0.297089 2000-01-01\n",
       "1  0.592417 2000-02-01\n",
       "2  0.824499 2000-03-01\n",
       "3  0.058411 2000-04-01\n",
       "4  0.116754 2000-05-01"
      ]
     },
     "execution_count": 426,
     "metadata": {},
     "output_type": "execute_result"
    }
   ],
   "source": [
    "cpi.head()"
   ]
  },
  {
   "cell_type": "code",
   "execution_count": 427,
   "id": "7e073ea6",
   "metadata": {},
   "outputs": [
    {
     "data": {
      "text/plain": [
       "Timestamp('2023-06-01 00:00:00')"
      ]
     },
     "execution_count": 427,
     "metadata": {},
     "output_type": "execute_result"
    }
   ],
   "source": [
    "cpi[\"Date\"].max()"
   ]
  },
  {
   "cell_type": "code",
   "execution_count": 428,
   "id": "85f3da57",
   "metadata": {},
   "outputs": [
    {
     "data": {
      "text/plain": [
       "Timestamp('2000-01-01 00:00:00')"
      ]
     },
     "execution_count": 428,
     "metadata": {},
     "output_type": "execute_result"
    }
   ],
   "source": [
    "cpi[\"Date\"].min()"
   ]
  },
  {
   "cell_type": "markdown",
   "id": "46c404cd",
   "metadata": {},
   "source": [
    "**cpi has monthly frequency with minimum date as \"2000-01-01\" and maximum date as \"2023-06-01\". We will consider until 2023-06-01**\""
   ]
  },
  {
   "cell_type": "markdown",
   "id": "db24fd9e",
   "metadata": {},
   "source": [
    "### Population"
   ]
  },
  {
   "cell_type": "code",
   "execution_count": 429,
   "id": "bcbd80ef",
   "metadata": {},
   "outputs": [
    {
     "data": {
      "text/html": [
       "<div>\n",
       "<style scoped>\n",
       "    .dataframe tbody tr th:only-of-type {\n",
       "        vertical-align: middle;\n",
       "    }\n",
       "\n",
       "    .dataframe tbody tr th {\n",
       "        vertical-align: top;\n",
       "    }\n",
       "\n",
       "    .dataframe thead th {\n",
       "        text-align: right;\n",
       "    }\n",
       "</style>\n",
       "<table border=\"1\" class=\"dataframe\">\n",
       "  <thead>\n",
       "    <tr style=\"text-align: right;\">\n",
       "      <th></th>\n",
       "      <th>DATE</th>\n",
       "      <th>CNP16OV</th>\n",
       "    </tr>\n",
       "  </thead>\n",
       "  <tbody>\n",
       "    <tr>\n",
       "      <th>0</th>\n",
       "      <td>2000-01-01</td>\n",
       "      <td>211410</td>\n",
       "    </tr>\n",
       "    <tr>\n",
       "      <th>1</th>\n",
       "      <td>2000-02-01</td>\n",
       "      <td>211576</td>\n",
       "    </tr>\n",
       "    <tr>\n",
       "      <th>2</th>\n",
       "      <td>2000-03-01</td>\n",
       "      <td>211772</td>\n",
       "    </tr>\n",
       "    <tr>\n",
       "      <th>3</th>\n",
       "      <td>2000-04-01</td>\n",
       "      <td>212018</td>\n",
       "    </tr>\n",
       "    <tr>\n",
       "      <th>4</th>\n",
       "      <td>2000-05-01</td>\n",
       "      <td>212242</td>\n",
       "    </tr>\n",
       "    <tr>\n",
       "      <th>...</th>\n",
       "      <td>...</td>\n",
       "      <td>...</td>\n",
       "    </tr>\n",
       "    <tr>\n",
       "      <th>279</th>\n",
       "      <td>2023-04-01</td>\n",
       "      <td>266443</td>\n",
       "    </tr>\n",
       "    <tr>\n",
       "      <th>280</th>\n",
       "      <td>2023-05-01</td>\n",
       "      <td>266618</td>\n",
       "    </tr>\n",
       "    <tr>\n",
       "      <th>281</th>\n",
       "      <td>2023-06-01</td>\n",
       "      <td>266801</td>\n",
       "    </tr>\n",
       "    <tr>\n",
       "      <th>282</th>\n",
       "      <td>2023-07-01</td>\n",
       "      <td>267002</td>\n",
       "    </tr>\n",
       "    <tr>\n",
       "      <th>283</th>\n",
       "      <td>2023-08-01</td>\n",
       "      <td>267213</td>\n",
       "    </tr>\n",
       "  </tbody>\n",
       "</table>\n",
       "<p>284 rows × 2 columns</p>\n",
       "</div>"
      ],
      "text/plain": [
       "           DATE  CNP16OV\n",
       "0    2000-01-01   211410\n",
       "1    2000-02-01   211576\n",
       "2    2000-03-01   211772\n",
       "3    2000-04-01   212018\n",
       "4    2000-05-01   212242\n",
       "..          ...      ...\n",
       "279  2023-04-01   266443\n",
       "280  2023-05-01   266618\n",
       "281  2023-06-01   266801\n",
       "282  2023-07-01   267002\n",
       "283  2023-08-01   267213\n",
       "\n",
       "[284 rows x 2 columns]"
      ]
     },
     "execution_count": 429,
     "metadata": {},
     "output_type": "execute_result"
    }
   ],
   "source": [
    "population = pd.read_csv(\"data/demand/population.csv\")\n",
    "population"
   ]
  },
  {
   "cell_type": "code",
   "execution_count": 430,
   "id": "d2ffbb6a",
   "metadata": {},
   "outputs": [],
   "source": [
    "population.rename(columns = {\"CNP16OV\":\"population\"}, inplace = True)"
   ]
  },
  {
   "cell_type": "code",
   "execution_count": 431,
   "id": "da1679dd",
   "metadata": {},
   "outputs": [],
   "source": [
    "population['Date'] = pd.to_datetime(population['DATE'])\n",
    "population.drop([\"DATE\"], axis = 1, inplace = True)"
   ]
  },
  {
   "cell_type": "code",
   "execution_count": 432,
   "id": "2891545e",
   "metadata": {},
   "outputs": [
    {
     "data": {
      "text/html": [
       "<div>\n",
       "<style scoped>\n",
       "    .dataframe tbody tr th:only-of-type {\n",
       "        vertical-align: middle;\n",
       "    }\n",
       "\n",
       "    .dataframe tbody tr th {\n",
       "        vertical-align: top;\n",
       "    }\n",
       "\n",
       "    .dataframe thead th {\n",
       "        text-align: right;\n",
       "    }\n",
       "</style>\n",
       "<table border=\"1\" class=\"dataframe\">\n",
       "  <thead>\n",
       "    <tr style=\"text-align: right;\">\n",
       "      <th></th>\n",
       "      <th>population</th>\n",
       "      <th>Date</th>\n",
       "    </tr>\n",
       "  </thead>\n",
       "  <tbody>\n",
       "    <tr>\n",
       "      <th>0</th>\n",
       "      <td>211410</td>\n",
       "      <td>2000-01-01</td>\n",
       "    </tr>\n",
       "    <tr>\n",
       "      <th>1</th>\n",
       "      <td>211576</td>\n",
       "      <td>2000-02-01</td>\n",
       "    </tr>\n",
       "    <tr>\n",
       "      <th>2</th>\n",
       "      <td>211772</td>\n",
       "      <td>2000-03-01</td>\n",
       "    </tr>\n",
       "    <tr>\n",
       "      <th>3</th>\n",
       "      <td>212018</td>\n",
       "      <td>2000-04-01</td>\n",
       "    </tr>\n",
       "    <tr>\n",
       "      <th>4</th>\n",
       "      <td>212242</td>\n",
       "      <td>2000-05-01</td>\n",
       "    </tr>\n",
       "  </tbody>\n",
       "</table>\n",
       "</div>"
      ],
      "text/plain": [
       "   population       Date\n",
       "0      211410 2000-01-01\n",
       "1      211576 2000-02-01\n",
       "2      211772 2000-03-01\n",
       "3      212018 2000-04-01\n",
       "4      212242 2000-05-01"
      ]
     },
     "execution_count": 432,
     "metadata": {},
     "output_type": "execute_result"
    }
   ],
   "source": [
    "population.head()"
   ]
  },
  {
   "cell_type": "code",
   "execution_count": 433,
   "id": "3786cd2c",
   "metadata": {},
   "outputs": [
    {
     "data": {
      "text/plain": [
       "Timestamp('2023-08-01 00:00:00')"
      ]
     },
     "execution_count": 433,
     "metadata": {},
     "output_type": "execute_result"
    }
   ],
   "source": [
    "population[\"Date\"].max()"
   ]
  },
  {
   "cell_type": "code",
   "execution_count": 434,
   "id": "29413c77",
   "metadata": {},
   "outputs": [
    {
     "data": {
      "text/plain": [
       "Timestamp('2000-01-01 00:00:00')"
      ]
     },
     "execution_count": 434,
     "metadata": {},
     "output_type": "execute_result"
    }
   ],
   "source": [
    "population[\"Date\"].min()"
   ]
  },
  {
   "cell_type": "markdown",
   "id": "930f9bdf",
   "metadata": {},
   "source": [
    "**population has monthly frequency with minimum date as \"2000-01-01\" and maximum date as \"2023-08-01\". We will consider until 2023-06-01\"**"
   ]
  },
  {
   "cell_type": "markdown",
   "id": "90028fa5",
   "metadata": {},
   "source": [
    "### employed population"
   ]
  },
  {
   "cell_type": "code",
   "execution_count": 435,
   "id": "5e85b4dc",
   "metadata": {},
   "outputs": [
    {
     "data": {
      "text/html": [
       "<div>\n",
       "<style scoped>\n",
       "    .dataframe tbody tr th:only-of-type {\n",
       "        vertical-align: middle;\n",
       "    }\n",
       "\n",
       "    .dataframe tbody tr th {\n",
       "        vertical-align: top;\n",
       "    }\n",
       "\n",
       "    .dataframe thead th {\n",
       "        text-align: right;\n",
       "    }\n",
       "</style>\n",
       "<table border=\"1\" class=\"dataframe\">\n",
       "  <thead>\n",
       "    <tr style=\"text-align: right;\">\n",
       "      <th></th>\n",
       "      <th>DATE</th>\n",
       "      <th>CE16OV</th>\n",
       "    </tr>\n",
       "  </thead>\n",
       "  <tbody>\n",
       "    <tr>\n",
       "      <th>0</th>\n",
       "      <td>2000-01-01</td>\n",
       "      <td>136559</td>\n",
       "    </tr>\n",
       "    <tr>\n",
       "      <th>1</th>\n",
       "      <td>2000-02-01</td>\n",
       "      <td>136598</td>\n",
       "    </tr>\n",
       "    <tr>\n",
       "      <th>2</th>\n",
       "      <td>2000-03-01</td>\n",
       "      <td>136701</td>\n",
       "    </tr>\n",
       "    <tr>\n",
       "      <th>3</th>\n",
       "      <td>2000-04-01</td>\n",
       "      <td>137270</td>\n",
       "    </tr>\n",
       "    <tr>\n",
       "      <th>4</th>\n",
       "      <td>2000-05-01</td>\n",
       "      <td>136630</td>\n",
       "    </tr>\n",
       "    <tr>\n",
       "      <th>...</th>\n",
       "      <td>...</td>\n",
       "      <td>...</td>\n",
       "    </tr>\n",
       "    <tr>\n",
       "      <th>279</th>\n",
       "      <td>2023-04-01</td>\n",
       "      <td>161031</td>\n",
       "    </tr>\n",
       "    <tr>\n",
       "      <th>280</th>\n",
       "      <td>2023-05-01</td>\n",
       "      <td>160721</td>\n",
       "    </tr>\n",
       "    <tr>\n",
       "      <th>281</th>\n",
       "      <td>2023-06-01</td>\n",
       "      <td>160994</td>\n",
       "    </tr>\n",
       "    <tr>\n",
       "      <th>282</th>\n",
       "      <td>2023-07-01</td>\n",
       "      <td>161262</td>\n",
       "    </tr>\n",
       "    <tr>\n",
       "      <th>283</th>\n",
       "      <td>2023-08-01</td>\n",
       "      <td>161484</td>\n",
       "    </tr>\n",
       "  </tbody>\n",
       "</table>\n",
       "<p>284 rows × 2 columns</p>\n",
       "</div>"
      ],
      "text/plain": [
       "           DATE  CE16OV\n",
       "0    2000-01-01  136559\n",
       "1    2000-02-01  136598\n",
       "2    2000-03-01  136701\n",
       "3    2000-04-01  137270\n",
       "4    2000-05-01  136630\n",
       "..          ...     ...\n",
       "279  2023-04-01  161031\n",
       "280  2023-05-01  160721\n",
       "281  2023-06-01  160994\n",
       "282  2023-07-01  161262\n",
       "283  2023-08-01  161484\n",
       "\n",
       "[284 rows x 2 columns]"
      ]
     },
     "execution_count": 435,
     "metadata": {},
     "output_type": "execute_result"
    }
   ],
   "source": [
    "emp_population = pd.read_csv(\"data/demand/employed population.csv\")\n",
    "emp_population"
   ]
  },
  {
   "cell_type": "code",
   "execution_count": 436,
   "id": "5096f8b9",
   "metadata": {},
   "outputs": [],
   "source": [
    "emp_population.rename(columns = {\"CE16OV\":\"employed population\"}, inplace = True)"
   ]
  },
  {
   "cell_type": "code",
   "execution_count": 437,
   "id": "11eb40c8",
   "metadata": {},
   "outputs": [],
   "source": [
    "emp_population['Date'] = pd.to_datetime(emp_population['DATE'])\n",
    "emp_population.drop([\"DATE\"], axis = 1, inplace = True)"
   ]
  },
  {
   "cell_type": "code",
   "execution_count": 438,
   "id": "73c28d9b",
   "metadata": {},
   "outputs": [
    {
     "data": {
      "text/html": [
       "<div>\n",
       "<style scoped>\n",
       "    .dataframe tbody tr th:only-of-type {\n",
       "        vertical-align: middle;\n",
       "    }\n",
       "\n",
       "    .dataframe tbody tr th {\n",
       "        vertical-align: top;\n",
       "    }\n",
       "\n",
       "    .dataframe thead th {\n",
       "        text-align: right;\n",
       "    }\n",
       "</style>\n",
       "<table border=\"1\" class=\"dataframe\">\n",
       "  <thead>\n",
       "    <tr style=\"text-align: right;\">\n",
       "      <th></th>\n",
       "      <th>employed population</th>\n",
       "      <th>Date</th>\n",
       "    </tr>\n",
       "  </thead>\n",
       "  <tbody>\n",
       "    <tr>\n",
       "      <th>0</th>\n",
       "      <td>136559</td>\n",
       "      <td>2000-01-01</td>\n",
       "    </tr>\n",
       "    <tr>\n",
       "      <th>1</th>\n",
       "      <td>136598</td>\n",
       "      <td>2000-02-01</td>\n",
       "    </tr>\n",
       "    <tr>\n",
       "      <th>2</th>\n",
       "      <td>136701</td>\n",
       "      <td>2000-03-01</td>\n",
       "    </tr>\n",
       "    <tr>\n",
       "      <th>3</th>\n",
       "      <td>137270</td>\n",
       "      <td>2000-04-01</td>\n",
       "    </tr>\n",
       "    <tr>\n",
       "      <th>4</th>\n",
       "      <td>136630</td>\n",
       "      <td>2000-05-01</td>\n",
       "    </tr>\n",
       "  </tbody>\n",
       "</table>\n",
       "</div>"
      ],
      "text/plain": [
       "   employed population       Date\n",
       "0               136559 2000-01-01\n",
       "1               136598 2000-02-01\n",
       "2               136701 2000-03-01\n",
       "3               137270 2000-04-01\n",
       "4               136630 2000-05-01"
      ]
     },
     "execution_count": 438,
     "metadata": {},
     "output_type": "execute_result"
    }
   ],
   "source": [
    "emp_population.head()"
   ]
  },
  {
   "cell_type": "code",
   "execution_count": 439,
   "id": "c9677654",
   "metadata": {},
   "outputs": [
    {
     "data": {
      "text/plain": [
       "Timestamp('2023-08-01 00:00:00')"
      ]
     },
     "execution_count": 439,
     "metadata": {},
     "output_type": "execute_result"
    }
   ],
   "source": [
    "emp_population[\"Date\"].max()"
   ]
  },
  {
   "cell_type": "code",
   "execution_count": 440,
   "id": "ff940823",
   "metadata": {},
   "outputs": [
    {
     "data": {
      "text/plain": [
       "Timestamp('2000-01-01 00:00:00')"
      ]
     },
     "execution_count": 440,
     "metadata": {},
     "output_type": "execute_result"
    }
   ],
   "source": [
    "emp_population[\"Date\"].min()"
   ]
  },
  {
   "cell_type": "markdown",
   "id": "0d3201c9",
   "metadata": {},
   "source": [
    "**employed population has monthly frequency with minimum date as \"2000-01-01\" and maximum date as \"2023-08-01\". We will consider until 2023-06-01\"**"
   ]
  },
  {
   "cell_type": "markdown",
   "id": "c3c5f080",
   "metadata": {},
   "source": [
    "### Merging all Demand Data"
   ]
  },
  {
   "cell_type": "code",
   "execution_count": 441,
   "id": "4f0552e9",
   "metadata": {},
   "outputs": [],
   "source": [
    "merged_df = pd.merge(hpi, interest, on='Date', how='left')\n",
    "merged_df = pd.merge(merged_df, mortgage, on='Date', how='left')\n",
    "merged_df = pd.merge(merged_df, gdp, on='Date', how='left')\n",
    "merged_df = pd.merge(merged_df, consumer_sentiment, on='Date', how='left')\n",
    "merged_df = pd.merge(merged_df, cpi, on='Date', how='left')\n",
    "merged_df = pd.merge(merged_df, population, on='Date', how='left')\n",
    "merged_df = pd.merge(merged_df, emp_population, on='Date', how='left')"
   ]
  },
  {
   "cell_type": "code",
   "execution_count": 442,
   "id": "e876834f",
   "metadata": {},
   "outputs": [
    {
     "data": {
      "text/html": [
       "<div>\n",
       "<style scoped>\n",
       "    .dataframe tbody tr th:only-of-type {\n",
       "        vertical-align: middle;\n",
       "    }\n",
       "\n",
       "    .dataframe tbody tr th {\n",
       "        vertical-align: top;\n",
       "    }\n",
       "\n",
       "    .dataframe thead th {\n",
       "        text-align: right;\n",
       "    }\n",
       "</style>\n",
       "<table border=\"1\" class=\"dataframe\">\n",
       "  <thead>\n",
       "    <tr style=\"text-align: right;\">\n",
       "      <th></th>\n",
       "      <th>HPI</th>\n",
       "      <th>Date</th>\n",
       "      <th>InterestDiscount</th>\n",
       "      <th>Avg Mortgage</th>\n",
       "      <th>gdp</th>\n",
       "      <th>Cons. Sentiment Index</th>\n",
       "      <th>cpi</th>\n",
       "      <th>population</th>\n",
       "      <th>employed population</th>\n",
       "    </tr>\n",
       "  </thead>\n",
       "  <tbody>\n",
       "    <tr>\n",
       "      <th>0</th>\n",
       "      <td>100.000</td>\n",
       "      <td>2000-01-01</td>\n",
       "      <td>5.00</td>\n",
       "      <td>8.2100</td>\n",
       "      <td>45983.0</td>\n",
       "      <td>112.0</td>\n",
       "      <td>0.297089</td>\n",
       "      <td>211410</td>\n",
       "      <td>136559</td>\n",
       "    </tr>\n",
       "    <tr>\n",
       "      <th>1</th>\n",
       "      <td>100.571</td>\n",
       "      <td>2000-02-01</td>\n",
       "      <td>5.24</td>\n",
       "      <td>8.3250</td>\n",
       "      <td>NaN</td>\n",
       "      <td>111.3</td>\n",
       "      <td>0.592417</td>\n",
       "      <td>211576</td>\n",
       "      <td>136598</td>\n",
       "    </tr>\n",
       "    <tr>\n",
       "      <th>2</th>\n",
       "      <td>101.466</td>\n",
       "      <td>2000-03-01</td>\n",
       "      <td>5.34</td>\n",
       "      <td>8.2400</td>\n",
       "      <td>NaN</td>\n",
       "      <td>107.1</td>\n",
       "      <td>0.824499</td>\n",
       "      <td>211772</td>\n",
       "      <td>136701</td>\n",
       "    </tr>\n",
       "    <tr>\n",
       "      <th>3</th>\n",
       "      <td>102.540</td>\n",
       "      <td>2000-04-01</td>\n",
       "      <td>5.50</td>\n",
       "      <td>8.1525</td>\n",
       "      <td>46704.0</td>\n",
       "      <td>109.2</td>\n",
       "      <td>0.058411</td>\n",
       "      <td>212018</td>\n",
       "      <td>137270</td>\n",
       "    </tr>\n",
       "    <tr>\n",
       "      <th>4</th>\n",
       "      <td>103.701</td>\n",
       "      <td>2000-05-01</td>\n",
       "      <td>5.71</td>\n",
       "      <td>8.5150</td>\n",
       "      <td>NaN</td>\n",
       "      <td>110.7</td>\n",
       "      <td>0.116754</td>\n",
       "      <td>212242</td>\n",
       "      <td>136630</td>\n",
       "    </tr>\n",
       "    <tr>\n",
       "      <th>...</th>\n",
       "      <td>...</td>\n",
       "      <td>...</td>\n",
       "      <td>...</td>\n",
       "      <td>...</td>\n",
       "      <td>...</td>\n",
       "      <td>...</td>\n",
       "      <td>...</td>\n",
       "      <td>...</td>\n",
       "      <td>...</td>\n",
       "    </tr>\n",
       "    <tr>\n",
       "      <th>277</th>\n",
       "      <td>293.341</td>\n",
       "      <td>2023-02-01</td>\n",
       "      <td>NaN</td>\n",
       "      <td>6.2575</td>\n",
       "      <td>NaN</td>\n",
       "      <td>67.0</td>\n",
       "      <td>0.558211</td>\n",
       "      <td>266112</td>\n",
       "      <td>160315</td>\n",
       "    </tr>\n",
       "    <tr>\n",
       "      <th>278</th>\n",
       "      <td>297.127</td>\n",
       "      <td>2023-03-01</td>\n",
       "      <td>NaN</td>\n",
       "      <td>6.5440</td>\n",
       "      <td>NaN</td>\n",
       "      <td>62.0</td>\n",
       "      <td>0.331073</td>\n",
       "      <td>266272</td>\n",
       "      <td>160892</td>\n",
       "    </tr>\n",
       "    <tr>\n",
       "      <th>279</th>\n",
       "      <td>301.457</td>\n",
       "      <td>2023-04-01</td>\n",
       "      <td>NaN</td>\n",
       "      <td>6.3425</td>\n",
       "      <td>60852.0</td>\n",
       "      <td>63.5</td>\n",
       "      <td>0.505904</td>\n",
       "      <td>266443</td>\n",
       "      <td>161031</td>\n",
       "    </tr>\n",
       "    <tr>\n",
       "      <th>280</th>\n",
       "      <td>305.402</td>\n",
       "      <td>2023-05-01</td>\n",
       "      <td>NaN</td>\n",
       "      <td>6.4250</td>\n",
       "      <td>NaN</td>\n",
       "      <td>59.2</td>\n",
       "      <td>0.251844</td>\n",
       "      <td>266618</td>\n",
       "      <td>160721</td>\n",
       "    </tr>\n",
       "    <tr>\n",
       "      <th>281</th>\n",
       "      <td>308.254</td>\n",
       "      <td>2023-06-01</td>\n",
       "      <td>NaN</td>\n",
       "      <td>6.7140</td>\n",
       "      <td>NaN</td>\n",
       "      <td>64.4</td>\n",
       "      <td>0.322891</td>\n",
       "      <td>266801</td>\n",
       "      <td>160994</td>\n",
       "    </tr>\n",
       "  </tbody>\n",
       "</table>\n",
       "<p>282 rows × 9 columns</p>\n",
       "</div>"
      ],
      "text/plain": [
       "         HPI       Date  InterestDiscount  Avg Mortgage      gdp  \\\n",
       "0    100.000 2000-01-01              5.00        8.2100  45983.0   \n",
       "1    100.571 2000-02-01              5.24        8.3250      NaN   \n",
       "2    101.466 2000-03-01              5.34        8.2400      NaN   \n",
       "3    102.540 2000-04-01              5.50        8.1525  46704.0   \n",
       "4    103.701 2000-05-01              5.71        8.5150      NaN   \n",
       "..       ...        ...               ...           ...      ...   \n",
       "277  293.341 2023-02-01               NaN        6.2575      NaN   \n",
       "278  297.127 2023-03-01               NaN        6.5440      NaN   \n",
       "279  301.457 2023-04-01               NaN        6.3425  60852.0   \n",
       "280  305.402 2023-05-01               NaN        6.4250      NaN   \n",
       "281  308.254 2023-06-01               NaN        6.7140      NaN   \n",
       "\n",
       "     Cons. Sentiment Index       cpi  population  employed population  \n",
       "0                    112.0  0.297089      211410               136559  \n",
       "1                    111.3  0.592417      211576               136598  \n",
       "2                    107.1  0.824499      211772               136701  \n",
       "3                    109.2  0.058411      212018               137270  \n",
       "4                    110.7  0.116754      212242               136630  \n",
       "..                     ...       ...         ...                  ...  \n",
       "277                   67.0  0.558211      266112               160315  \n",
       "278                   62.0  0.331073      266272               160892  \n",
       "279                   63.5  0.505904      266443               161031  \n",
       "280                   59.2  0.251844      266618               160721  \n",
       "281                   64.4  0.322891      266801               160994  \n",
       "\n",
       "[282 rows x 9 columns]"
      ]
     },
     "execution_count": 442,
     "metadata": {},
     "output_type": "execute_result"
    }
   ],
   "source": [
    "merged_df"
   ]
  },
  {
   "cell_type": "markdown",
   "id": "be9764da",
   "metadata": {},
   "source": [
    "## Supply Features"
   ]
  },
  {
   "cell_type": "markdown",
   "id": "fca99212",
   "metadata": {},
   "source": [
    "### Avg. House sales parice"
   ]
  },
  {
   "cell_type": "code",
   "execution_count": 443,
   "id": "24fbc4cf",
   "metadata": {},
   "outputs": [
    {
     "data": {
      "text/html": [
       "<div>\n",
       "<style scoped>\n",
       "    .dataframe tbody tr th:only-of-type {\n",
       "        vertical-align: middle;\n",
       "    }\n",
       "\n",
       "    .dataframe tbody tr th {\n",
       "        vertical-align: top;\n",
       "    }\n",
       "\n",
       "    .dataframe thead th {\n",
       "        text-align: right;\n",
       "    }\n",
       "</style>\n",
       "<table border=\"1\" class=\"dataframe\">\n",
       "  <thead>\n",
       "    <tr style=\"text-align: right;\">\n",
       "      <th></th>\n",
       "      <th>DATE</th>\n",
       "      <th>ASPUS</th>\n",
       "    </tr>\n",
       "  </thead>\n",
       "  <tbody>\n",
       "    <tr>\n",
       "      <th>0</th>\n",
       "      <td>2000-01-01</td>\n",
       "      <td>202900.0</td>\n",
       "    </tr>\n",
       "    <tr>\n",
       "      <th>1</th>\n",
       "      <td>2000-04-01</td>\n",
       "      <td>202400.0</td>\n",
       "    </tr>\n",
       "    <tr>\n",
       "      <th>2</th>\n",
       "      <td>2000-07-01</td>\n",
       "      <td>204100.0</td>\n",
       "    </tr>\n",
       "    <tr>\n",
       "      <th>3</th>\n",
       "      <td>2000-10-01</td>\n",
       "      <td>212100.0</td>\n",
       "    </tr>\n",
       "    <tr>\n",
       "      <th>4</th>\n",
       "      <td>2001-01-01</td>\n",
       "      <td>211000.0</td>\n",
       "    </tr>\n",
       "    <tr>\n",
       "      <th>...</th>\n",
       "      <td>...</td>\n",
       "      <td>...</td>\n",
       "    </tr>\n",
       "    <tr>\n",
       "      <th>89</th>\n",
       "      <td>2022-04-01</td>\n",
       "      <td>527500.0</td>\n",
       "    </tr>\n",
       "    <tr>\n",
       "      <th>90</th>\n",
       "      <td>2022-07-01</td>\n",
       "      <td>547800.0</td>\n",
       "    </tr>\n",
       "    <tr>\n",
       "      <th>91</th>\n",
       "      <td>2022-10-01</td>\n",
       "      <td>552600.0</td>\n",
       "    </tr>\n",
       "    <tr>\n",
       "      <th>92</th>\n",
       "      <td>2023-01-01</td>\n",
       "      <td>505300.0</td>\n",
       "    </tr>\n",
       "    <tr>\n",
       "      <th>93</th>\n",
       "      <td>2023-04-01</td>\n",
       "      <td>495100.0</td>\n",
       "    </tr>\n",
       "  </tbody>\n",
       "</table>\n",
       "<p>94 rows × 2 columns</p>\n",
       "</div>"
      ],
      "text/plain": [
       "          DATE     ASPUS\n",
       "0   2000-01-01  202900.0\n",
       "1   2000-04-01  202400.0\n",
       "2   2000-07-01  204100.0\n",
       "3   2000-10-01  212100.0\n",
       "4   2001-01-01  211000.0\n",
       "..         ...       ...\n",
       "89  2022-04-01  527500.0\n",
       "90  2022-07-01  547800.0\n",
       "91  2022-10-01  552600.0\n",
       "92  2023-01-01  505300.0\n",
       "93  2023-04-01  495100.0\n",
       "\n",
       "[94 rows x 2 columns]"
      ]
     },
     "execution_count": 443,
     "metadata": {},
     "output_type": "execute_result"
    }
   ],
   "source": [
    "avg_sales_price = pd.read_csv(\"data/supply/Avg. House Sales Price.csv\")\n",
    "avg_sales_price"
   ]
  },
  {
   "cell_type": "code",
   "execution_count": 444,
   "id": "dbc7eefd",
   "metadata": {},
   "outputs": [],
   "source": [
    "avg_sales_price.rename(columns = {\"ASPUS\":\"avg house sales price\"}, inplace = True)"
   ]
  },
  {
   "cell_type": "code",
   "execution_count": 445,
   "id": "a33421b7",
   "metadata": {},
   "outputs": [],
   "source": [
    "avg_sales_price['Date'] = pd.to_datetime(avg_sales_price['DATE'])\n",
    "avg_sales_price.drop([\"DATE\"], axis = 1, inplace = True)"
   ]
  },
  {
   "cell_type": "code",
   "execution_count": 446,
   "id": "477d3ad4",
   "metadata": {},
   "outputs": [
    {
     "data": {
      "text/html": [
       "<div>\n",
       "<style scoped>\n",
       "    .dataframe tbody tr th:only-of-type {\n",
       "        vertical-align: middle;\n",
       "    }\n",
       "\n",
       "    .dataframe tbody tr th {\n",
       "        vertical-align: top;\n",
       "    }\n",
       "\n",
       "    .dataframe thead th {\n",
       "        text-align: right;\n",
       "    }\n",
       "</style>\n",
       "<table border=\"1\" class=\"dataframe\">\n",
       "  <thead>\n",
       "    <tr style=\"text-align: right;\">\n",
       "      <th></th>\n",
       "      <th>avg house sales price</th>\n",
       "      <th>Date</th>\n",
       "    </tr>\n",
       "  </thead>\n",
       "  <tbody>\n",
       "    <tr>\n",
       "      <th>0</th>\n",
       "      <td>202900.0</td>\n",
       "      <td>2000-01-01</td>\n",
       "    </tr>\n",
       "    <tr>\n",
       "      <th>1</th>\n",
       "      <td>202400.0</td>\n",
       "      <td>2000-04-01</td>\n",
       "    </tr>\n",
       "    <tr>\n",
       "      <th>2</th>\n",
       "      <td>204100.0</td>\n",
       "      <td>2000-07-01</td>\n",
       "    </tr>\n",
       "    <tr>\n",
       "      <th>3</th>\n",
       "      <td>212100.0</td>\n",
       "      <td>2000-10-01</td>\n",
       "    </tr>\n",
       "    <tr>\n",
       "      <th>4</th>\n",
       "      <td>211000.0</td>\n",
       "      <td>2001-01-01</td>\n",
       "    </tr>\n",
       "  </tbody>\n",
       "</table>\n",
       "</div>"
      ],
      "text/plain": [
       "   avg house sales price       Date\n",
       "0               202900.0 2000-01-01\n",
       "1               202400.0 2000-04-01\n",
       "2               204100.0 2000-07-01\n",
       "3               212100.0 2000-10-01\n",
       "4               211000.0 2001-01-01"
      ]
     },
     "execution_count": 446,
     "metadata": {},
     "output_type": "execute_result"
    }
   ],
   "source": [
    "avg_sales_price.head()"
   ]
  },
  {
   "cell_type": "code",
   "execution_count": 447,
   "id": "a9a05483",
   "metadata": {},
   "outputs": [
    {
     "data": {
      "text/plain": [
       "Timestamp('2023-04-01 00:00:00')"
      ]
     },
     "execution_count": 447,
     "metadata": {},
     "output_type": "execute_result"
    }
   ],
   "source": [
    "avg_sales_price[\"Date\"].max()"
   ]
  },
  {
   "cell_type": "code",
   "execution_count": 448,
   "id": "e01fd31e",
   "metadata": {},
   "outputs": [
    {
     "data": {
      "text/plain": [
       "Timestamp('2000-01-01 00:00:00')"
      ]
     },
     "execution_count": 448,
     "metadata": {},
     "output_type": "execute_result"
    }
   ],
   "source": [
    "avg_sales_price[\"Date\"].min()"
   ]
  },
  {
   "cell_type": "markdown",
   "id": "42cd878f",
   "metadata": {},
   "source": [
    "### MOnthly Supply of new houses"
   ]
  },
  {
   "cell_type": "code",
   "execution_count": 449,
   "id": "dcefa7e1",
   "metadata": {},
   "outputs": [
    {
     "data": {
      "text/html": [
       "<div>\n",
       "<style scoped>\n",
       "    .dataframe tbody tr th:only-of-type {\n",
       "        vertical-align: middle;\n",
       "    }\n",
       "\n",
       "    .dataframe tbody tr th {\n",
       "        vertical-align: top;\n",
       "    }\n",
       "\n",
       "    .dataframe thead th {\n",
       "        text-align: right;\n",
       "    }\n",
       "</style>\n",
       "<table border=\"1\" class=\"dataframe\">\n",
       "  <thead>\n",
       "    <tr style=\"text-align: right;\">\n",
       "      <th></th>\n",
       "      <th>DATE</th>\n",
       "      <th>MSACSR</th>\n",
       "    </tr>\n",
       "  </thead>\n",
       "  <tbody>\n",
       "    <tr>\n",
       "      <th>0</th>\n",
       "      <td>2000-01-01</td>\n",
       "      <td>4.3</td>\n",
       "    </tr>\n",
       "    <tr>\n",
       "      <th>1</th>\n",
       "      <td>2000-02-01</td>\n",
       "      <td>4.3</td>\n",
       "    </tr>\n",
       "    <tr>\n",
       "      <th>2</th>\n",
       "      <td>2000-03-01</td>\n",
       "      <td>4.3</td>\n",
       "    </tr>\n",
       "    <tr>\n",
       "      <th>3</th>\n",
       "      <td>2000-04-01</td>\n",
       "      <td>4.4</td>\n",
       "    </tr>\n",
       "    <tr>\n",
       "      <th>4</th>\n",
       "      <td>2000-05-01</td>\n",
       "      <td>4.4</td>\n",
       "    </tr>\n",
       "    <tr>\n",
       "      <th>...</th>\n",
       "      <td>...</td>\n",
       "      <td>...</td>\n",
       "    </tr>\n",
       "    <tr>\n",
       "      <th>278</th>\n",
       "      <td>2023-03-01</td>\n",
       "      <td>8.1</td>\n",
       "    </tr>\n",
       "    <tr>\n",
       "      <th>279</th>\n",
       "      <td>2023-04-01</td>\n",
       "      <td>7.6</td>\n",
       "    </tr>\n",
       "    <tr>\n",
       "      <th>280</th>\n",
       "      <td>2023-05-01</td>\n",
       "      <td>7.3</td>\n",
       "    </tr>\n",
       "    <tr>\n",
       "      <th>281</th>\n",
       "      <td>2023-06-01</td>\n",
       "      <td>7.5</td>\n",
       "    </tr>\n",
       "    <tr>\n",
       "      <th>282</th>\n",
       "      <td>2023-07-01</td>\n",
       "      <td>7.3</td>\n",
       "    </tr>\n",
       "  </tbody>\n",
       "</table>\n",
       "<p>283 rows × 2 columns</p>\n",
       "</div>"
      ],
      "text/plain": [
       "           DATE  MSACSR\n",
       "0    2000-01-01     4.3\n",
       "1    2000-02-01     4.3\n",
       "2    2000-03-01     4.3\n",
       "3    2000-04-01     4.4\n",
       "4    2000-05-01     4.4\n",
       "..          ...     ...\n",
       "278  2023-03-01     8.1\n",
       "279  2023-04-01     7.6\n",
       "280  2023-05-01     7.3\n",
       "281  2023-06-01     7.5\n",
       "282  2023-07-01     7.3\n",
       "\n",
       "[283 rows x 2 columns]"
      ]
     },
     "execution_count": 449,
     "metadata": {},
     "output_type": "execute_result"
    }
   ],
   "source": [
    "monthly_new_houses = pd.read_csv(\"data/supply/Monthly Supply of New Houses .csv\")\n",
    "monthly_new_houses"
   ]
  },
  {
   "cell_type": "code",
   "execution_count": 450,
   "id": "d74dc86e",
   "metadata": {},
   "outputs": [],
   "source": [
    "monthly_new_houses.rename(columns = {\"MSACSR\":\"monthly new houses\"}, inplace = True)"
   ]
  },
  {
   "cell_type": "code",
   "execution_count": 451,
   "id": "b699edde",
   "metadata": {},
   "outputs": [],
   "source": [
    "monthly_new_houses['Date'] = pd.to_datetime(monthly_new_houses['DATE'])\n",
    "monthly_new_houses.drop([\"DATE\"], axis = 1, inplace = True)"
   ]
  },
  {
   "cell_type": "code",
   "execution_count": 452,
   "id": "ab85a943",
   "metadata": {},
   "outputs": [
    {
     "data": {
      "text/html": [
       "<div>\n",
       "<style scoped>\n",
       "    .dataframe tbody tr th:only-of-type {\n",
       "        vertical-align: middle;\n",
       "    }\n",
       "\n",
       "    .dataframe tbody tr th {\n",
       "        vertical-align: top;\n",
       "    }\n",
       "\n",
       "    .dataframe thead th {\n",
       "        text-align: right;\n",
       "    }\n",
       "</style>\n",
       "<table border=\"1\" class=\"dataframe\">\n",
       "  <thead>\n",
       "    <tr style=\"text-align: right;\">\n",
       "      <th></th>\n",
       "      <th>monthly new houses</th>\n",
       "      <th>Date</th>\n",
       "    </tr>\n",
       "  </thead>\n",
       "  <tbody>\n",
       "    <tr>\n",
       "      <th>0</th>\n",
       "      <td>4.3</td>\n",
       "      <td>2000-01-01</td>\n",
       "    </tr>\n",
       "    <tr>\n",
       "      <th>1</th>\n",
       "      <td>4.3</td>\n",
       "      <td>2000-02-01</td>\n",
       "    </tr>\n",
       "    <tr>\n",
       "      <th>2</th>\n",
       "      <td>4.3</td>\n",
       "      <td>2000-03-01</td>\n",
       "    </tr>\n",
       "    <tr>\n",
       "      <th>3</th>\n",
       "      <td>4.4</td>\n",
       "      <td>2000-04-01</td>\n",
       "    </tr>\n",
       "    <tr>\n",
       "      <th>4</th>\n",
       "      <td>4.4</td>\n",
       "      <td>2000-05-01</td>\n",
       "    </tr>\n",
       "  </tbody>\n",
       "</table>\n",
       "</div>"
      ],
      "text/plain": [
       "   monthly new houses       Date\n",
       "0                 4.3 2000-01-01\n",
       "1                 4.3 2000-02-01\n",
       "2                 4.3 2000-03-01\n",
       "3                 4.4 2000-04-01\n",
       "4                 4.4 2000-05-01"
      ]
     },
     "execution_count": 452,
     "metadata": {},
     "output_type": "execute_result"
    }
   ],
   "source": [
    "monthly_new_houses.head()"
   ]
  },
  {
   "cell_type": "code",
   "execution_count": 453,
   "id": "40ee93c8",
   "metadata": {},
   "outputs": [
    {
     "data": {
      "text/plain": [
       "Timestamp('2023-07-01 00:00:00')"
      ]
     },
     "execution_count": 453,
     "metadata": {},
     "output_type": "execute_result"
    }
   ],
   "source": [
    "monthly_new_houses[\"Date\"].max()"
   ]
  },
  {
   "cell_type": "code",
   "execution_count": 454,
   "id": "50db632d",
   "metadata": {},
   "outputs": [
    {
     "data": {
      "text/plain": [
       "Timestamp('2000-01-01 00:00:00')"
      ]
     },
     "execution_count": 454,
     "metadata": {},
     "output_type": "execute_result"
    }
   ],
   "source": [
    "monthly_new_houses[\"Date\"].min()"
   ]
  },
  {
   "cell_type": "markdown",
   "id": "493a06a2",
   "metadata": {},
   "source": [
    "### New  Housing Units Authorized"
   ]
  },
  {
   "cell_type": "code",
   "execution_count": 455,
   "id": "9f2db4ab",
   "metadata": {},
   "outputs": [
    {
     "data": {
      "text/html": [
       "<div>\n",
       "<style scoped>\n",
       "    .dataframe tbody tr th:only-of-type {\n",
       "        vertical-align: middle;\n",
       "    }\n",
       "\n",
       "    .dataframe tbody tr th {\n",
       "        vertical-align: top;\n",
       "    }\n",
       "\n",
       "    .dataframe thead th {\n",
       "        text-align: right;\n",
       "    }\n",
       "</style>\n",
       "<table border=\"1\" class=\"dataframe\">\n",
       "  <thead>\n",
       "    <tr style=\"text-align: right;\">\n",
       "      <th></th>\n",
       "      <th>DATE</th>\n",
       "      <th>PERMIT</th>\n",
       "    </tr>\n",
       "  </thead>\n",
       "  <tbody>\n",
       "    <tr>\n",
       "      <th>0</th>\n",
       "      <td>2000-01-01</td>\n",
       "      <td>1727.0</td>\n",
       "    </tr>\n",
       "    <tr>\n",
       "      <th>1</th>\n",
       "      <td>2000-02-01</td>\n",
       "      <td>1692.0</td>\n",
       "    </tr>\n",
       "    <tr>\n",
       "      <th>2</th>\n",
       "      <td>2000-03-01</td>\n",
       "      <td>1651.0</td>\n",
       "    </tr>\n",
       "    <tr>\n",
       "      <th>3</th>\n",
       "      <td>2000-04-01</td>\n",
       "      <td>1597.0</td>\n",
       "    </tr>\n",
       "    <tr>\n",
       "      <th>4</th>\n",
       "      <td>2000-05-01</td>\n",
       "      <td>1543.0</td>\n",
       "    </tr>\n",
       "    <tr>\n",
       "      <th>...</th>\n",
       "      <td>...</td>\n",
       "      <td>...</td>\n",
       "    </tr>\n",
       "    <tr>\n",
       "      <th>278</th>\n",
       "      <td>2023-03-01</td>\n",
       "      <td>1437.0</td>\n",
       "    </tr>\n",
       "    <tr>\n",
       "      <th>279</th>\n",
       "      <td>2023-04-01</td>\n",
       "      <td>1417.0</td>\n",
       "    </tr>\n",
       "    <tr>\n",
       "      <th>280</th>\n",
       "      <td>2023-05-01</td>\n",
       "      <td>1496.0</td>\n",
       "    </tr>\n",
       "    <tr>\n",
       "      <th>281</th>\n",
       "      <td>2023-06-01</td>\n",
       "      <td>1441.0</td>\n",
       "    </tr>\n",
       "    <tr>\n",
       "      <th>282</th>\n",
       "      <td>2023-07-01</td>\n",
       "      <td>1443.0</td>\n",
       "    </tr>\n",
       "  </tbody>\n",
       "</table>\n",
       "<p>283 rows × 2 columns</p>\n",
       "</div>"
      ],
      "text/plain": [
       "           DATE  PERMIT\n",
       "0    2000-01-01  1727.0\n",
       "1    2000-02-01  1692.0\n",
       "2    2000-03-01  1651.0\n",
       "3    2000-04-01  1597.0\n",
       "4    2000-05-01  1543.0\n",
       "..          ...     ...\n",
       "278  2023-03-01  1437.0\n",
       "279  2023-04-01  1417.0\n",
       "280  2023-05-01  1496.0\n",
       "281  2023-06-01  1441.0\n",
       "282  2023-07-01  1443.0\n",
       "\n",
       "[283 rows x 2 columns]"
      ]
     },
     "execution_count": 455,
     "metadata": {},
     "output_type": "execute_result"
    }
   ],
   "source": [
    "new_houses_authorized = pd.read_csv(\"data/supply/New Housing Units Authorized.csv\")\n",
    "new_houses_authorized"
   ]
  },
  {
   "cell_type": "code",
   "execution_count": 456,
   "id": "ea4fcdc0",
   "metadata": {},
   "outputs": [],
   "source": [
    "new_houses_authorized.rename(columns = {\"PERMIT\":\"new houses authorized\"}, inplace = True)"
   ]
  },
  {
   "cell_type": "code",
   "execution_count": 457,
   "id": "cdc1461a",
   "metadata": {},
   "outputs": [],
   "source": [
    "new_houses_authorized['Date'] = pd.to_datetime(new_houses_authorized['DATE'])\n",
    "new_houses_authorized.drop([\"DATE\"], axis = 1, inplace = True)"
   ]
  },
  {
   "cell_type": "code",
   "execution_count": 458,
   "id": "059466b9",
   "metadata": {
    "scrolled": true
   },
   "outputs": [
    {
     "data": {
      "text/html": [
       "<div>\n",
       "<style scoped>\n",
       "    .dataframe tbody tr th:only-of-type {\n",
       "        vertical-align: middle;\n",
       "    }\n",
       "\n",
       "    .dataframe tbody tr th {\n",
       "        vertical-align: top;\n",
       "    }\n",
       "\n",
       "    .dataframe thead th {\n",
       "        text-align: right;\n",
       "    }\n",
       "</style>\n",
       "<table border=\"1\" class=\"dataframe\">\n",
       "  <thead>\n",
       "    <tr style=\"text-align: right;\">\n",
       "      <th></th>\n",
       "      <th>new houses authorized</th>\n",
       "      <th>Date</th>\n",
       "    </tr>\n",
       "  </thead>\n",
       "  <tbody>\n",
       "    <tr>\n",
       "      <th>0</th>\n",
       "      <td>1727.0</td>\n",
       "      <td>2000-01-01</td>\n",
       "    </tr>\n",
       "    <tr>\n",
       "      <th>1</th>\n",
       "      <td>1692.0</td>\n",
       "      <td>2000-02-01</td>\n",
       "    </tr>\n",
       "    <tr>\n",
       "      <th>2</th>\n",
       "      <td>1651.0</td>\n",
       "      <td>2000-03-01</td>\n",
       "    </tr>\n",
       "    <tr>\n",
       "      <th>3</th>\n",
       "      <td>1597.0</td>\n",
       "      <td>2000-04-01</td>\n",
       "    </tr>\n",
       "    <tr>\n",
       "      <th>4</th>\n",
       "      <td>1543.0</td>\n",
       "      <td>2000-05-01</td>\n",
       "    </tr>\n",
       "  </tbody>\n",
       "</table>\n",
       "</div>"
      ],
      "text/plain": [
       "   new houses authorized       Date\n",
       "0                 1727.0 2000-01-01\n",
       "1                 1692.0 2000-02-01\n",
       "2                 1651.0 2000-03-01\n",
       "3                 1597.0 2000-04-01\n",
       "4                 1543.0 2000-05-01"
      ]
     },
     "execution_count": 458,
     "metadata": {},
     "output_type": "execute_result"
    }
   ],
   "source": [
    "new_houses_authorized.head()"
   ]
  },
  {
   "cell_type": "code",
   "execution_count": 459,
   "id": "da265186",
   "metadata": {},
   "outputs": [
    {
     "data": {
      "text/plain": [
       "Timestamp('2023-07-01 00:00:00')"
      ]
     },
     "execution_count": 459,
     "metadata": {},
     "output_type": "execute_result"
    }
   ],
   "source": [
    "new_houses_authorized[\"Date\"].max()"
   ]
  },
  {
   "cell_type": "code",
   "execution_count": 460,
   "id": "e4b859a9",
   "metadata": {},
   "outputs": [
    {
     "data": {
      "text/plain": [
       "Timestamp('2000-01-01 00:00:00')"
      ]
     },
     "execution_count": 460,
     "metadata": {},
     "output_type": "execute_result"
    }
   ],
   "source": [
    "new_houses_authorized[\"Date\"].min()"
   ]
  },
  {
   "cell_type": "markdown",
   "id": "d20aa0b2",
   "metadata": {},
   "source": [
    "### New  Housing Units Completed"
   ]
  },
  {
   "cell_type": "code",
   "execution_count": 461,
   "id": "7a2387f6",
   "metadata": {},
   "outputs": [
    {
     "data": {
      "text/html": [
       "<div>\n",
       "<style scoped>\n",
       "    .dataframe tbody tr th:only-of-type {\n",
       "        vertical-align: middle;\n",
       "    }\n",
       "\n",
       "    .dataframe tbody tr th {\n",
       "        vertical-align: top;\n",
       "    }\n",
       "\n",
       "    .dataframe thead th {\n",
       "        text-align: right;\n",
       "    }\n",
       "</style>\n",
       "<table border=\"1\" class=\"dataframe\">\n",
       "  <thead>\n",
       "    <tr style=\"text-align: right;\">\n",
       "      <th></th>\n",
       "      <th>DATE</th>\n",
       "      <th>COMPUTSA</th>\n",
       "    </tr>\n",
       "  </thead>\n",
       "  <tbody>\n",
       "    <tr>\n",
       "      <th>0</th>\n",
       "      <td>2000-01-01</td>\n",
       "      <td>1574.0</td>\n",
       "    </tr>\n",
       "    <tr>\n",
       "      <th>1</th>\n",
       "      <td>2000-02-01</td>\n",
       "      <td>1677.0</td>\n",
       "    </tr>\n",
       "    <tr>\n",
       "      <th>2</th>\n",
       "      <td>2000-03-01</td>\n",
       "      <td>1704.0</td>\n",
       "    </tr>\n",
       "    <tr>\n",
       "      <th>3</th>\n",
       "      <td>2000-04-01</td>\n",
       "      <td>1610.0</td>\n",
       "    </tr>\n",
       "    <tr>\n",
       "      <th>4</th>\n",
       "      <td>2000-05-01</td>\n",
       "      <td>1682.0</td>\n",
       "    </tr>\n",
       "    <tr>\n",
       "      <th>...</th>\n",
       "      <td>...</td>\n",
       "      <td>...</td>\n",
       "    </tr>\n",
       "    <tr>\n",
       "      <th>278</th>\n",
       "      <td>2023-03-01</td>\n",
       "      <td>1528.0</td>\n",
       "    </tr>\n",
       "    <tr>\n",
       "      <th>279</th>\n",
       "      <td>2023-04-01</td>\n",
       "      <td>1416.0</td>\n",
       "    </tr>\n",
       "    <tr>\n",
       "      <th>280</th>\n",
       "      <td>2023-05-01</td>\n",
       "      <td>1534.0</td>\n",
       "    </tr>\n",
       "    <tr>\n",
       "      <th>281</th>\n",
       "      <td>2023-06-01</td>\n",
       "      <td>1498.0</td>\n",
       "    </tr>\n",
       "    <tr>\n",
       "      <th>282</th>\n",
       "      <td>2023-07-01</td>\n",
       "      <td>1321.0</td>\n",
       "    </tr>\n",
       "  </tbody>\n",
       "</table>\n",
       "<p>283 rows × 2 columns</p>\n",
       "</div>"
      ],
      "text/plain": [
       "           DATE  COMPUTSA\n",
       "0    2000-01-01    1574.0\n",
       "1    2000-02-01    1677.0\n",
       "2    2000-03-01    1704.0\n",
       "3    2000-04-01    1610.0\n",
       "4    2000-05-01    1682.0\n",
       "..          ...       ...\n",
       "278  2023-03-01    1528.0\n",
       "279  2023-04-01    1416.0\n",
       "280  2023-05-01    1534.0\n",
       "281  2023-06-01    1498.0\n",
       "282  2023-07-01    1321.0\n",
       "\n",
       "[283 rows x 2 columns]"
      ]
     },
     "execution_count": 461,
     "metadata": {},
     "output_type": "execute_result"
    }
   ],
   "source": [
    "new_houses_completed = pd.read_csv(\"data/supply/New Housing Units Completed.csv\")\n",
    "new_houses_completed"
   ]
  },
  {
   "cell_type": "code",
   "execution_count": 462,
   "id": "3404a0d9",
   "metadata": {},
   "outputs": [],
   "source": [
    "new_houses_completed.rename(columns = {\"COMPUTSA\":\"new houses completed\"}, inplace = True)"
   ]
  },
  {
   "cell_type": "code",
   "execution_count": 463,
   "id": "14f9e4e8",
   "metadata": {},
   "outputs": [],
   "source": [
    "new_houses_completed['Date'] = pd.to_datetime(new_houses_completed['DATE'])\n",
    "new_houses_completed.drop([\"DATE\"], axis = 1, inplace = True)"
   ]
  },
  {
   "cell_type": "code",
   "execution_count": 464,
   "id": "6bfe895d",
   "metadata": {},
   "outputs": [
    {
     "data": {
      "text/html": [
       "<div>\n",
       "<style scoped>\n",
       "    .dataframe tbody tr th:only-of-type {\n",
       "        vertical-align: middle;\n",
       "    }\n",
       "\n",
       "    .dataframe tbody tr th {\n",
       "        vertical-align: top;\n",
       "    }\n",
       "\n",
       "    .dataframe thead th {\n",
       "        text-align: right;\n",
       "    }\n",
       "</style>\n",
       "<table border=\"1\" class=\"dataframe\">\n",
       "  <thead>\n",
       "    <tr style=\"text-align: right;\">\n",
       "      <th></th>\n",
       "      <th>new houses completed</th>\n",
       "      <th>Date</th>\n",
       "    </tr>\n",
       "  </thead>\n",
       "  <tbody>\n",
       "    <tr>\n",
       "      <th>0</th>\n",
       "      <td>1574.0</td>\n",
       "      <td>2000-01-01</td>\n",
       "    </tr>\n",
       "    <tr>\n",
       "      <th>1</th>\n",
       "      <td>1677.0</td>\n",
       "      <td>2000-02-01</td>\n",
       "    </tr>\n",
       "    <tr>\n",
       "      <th>2</th>\n",
       "      <td>1704.0</td>\n",
       "      <td>2000-03-01</td>\n",
       "    </tr>\n",
       "    <tr>\n",
       "      <th>3</th>\n",
       "      <td>1610.0</td>\n",
       "      <td>2000-04-01</td>\n",
       "    </tr>\n",
       "    <tr>\n",
       "      <th>4</th>\n",
       "      <td>1682.0</td>\n",
       "      <td>2000-05-01</td>\n",
       "    </tr>\n",
       "  </tbody>\n",
       "</table>\n",
       "</div>"
      ],
      "text/plain": [
       "   new houses completed       Date\n",
       "0                1574.0 2000-01-01\n",
       "1                1677.0 2000-02-01\n",
       "2                1704.0 2000-03-01\n",
       "3                1610.0 2000-04-01\n",
       "4                1682.0 2000-05-01"
      ]
     },
     "execution_count": 464,
     "metadata": {},
     "output_type": "execute_result"
    }
   ],
   "source": [
    "new_houses_completed.head()"
   ]
  },
  {
   "cell_type": "code",
   "execution_count": 465,
   "id": "0ffc9a22",
   "metadata": {},
   "outputs": [
    {
     "data": {
      "text/plain": [
       "Timestamp('2023-07-01 00:00:00')"
      ]
     },
     "execution_count": 465,
     "metadata": {},
     "output_type": "execute_result"
    }
   ],
   "source": [
    "new_houses_completed[\"Date\"].max()"
   ]
  },
  {
   "cell_type": "code",
   "execution_count": 466,
   "id": "b1adafcc",
   "metadata": {},
   "outputs": [
    {
     "data": {
      "text/plain": [
       "Timestamp('2000-01-01 00:00:00')"
      ]
     },
     "execution_count": 466,
     "metadata": {},
     "output_type": "execute_result"
    }
   ],
   "source": [
    "new_houses_completed[\"Date\"].min()"
   ]
  },
  {
   "cell_type": "markdown",
   "id": "f2779ab1",
   "metadata": {},
   "source": [
    "### producer price index"
   ]
  },
  {
   "cell_type": "code",
   "execution_count": 467,
   "id": "79a00d2d",
   "metadata": {
    "scrolled": true
   },
   "outputs": [
    {
     "data": {
      "text/html": [
       "<div>\n",
       "<style scoped>\n",
       "    .dataframe tbody tr th:only-of-type {\n",
       "        vertical-align: middle;\n",
       "    }\n",
       "\n",
       "    .dataframe tbody tr th {\n",
       "        vertical-align: top;\n",
       "    }\n",
       "\n",
       "    .dataframe thead th {\n",
       "        text-align: right;\n",
       "    }\n",
       "</style>\n",
       "<table border=\"1\" class=\"dataframe\">\n",
       "  <thead>\n",
       "    <tr style=\"text-align: right;\">\n",
       "      <th></th>\n",
       "      <th>DATE</th>\n",
       "      <th>WPUSI012011</th>\n",
       "    </tr>\n",
       "  </thead>\n",
       "  <tbody>\n",
       "    <tr>\n",
       "      <th>0</th>\n",
       "      <td>2000-01-01</td>\n",
       "      <td>144.100</td>\n",
       "    </tr>\n",
       "    <tr>\n",
       "      <th>1</th>\n",
       "      <td>2000-02-01</td>\n",
       "      <td>144.700</td>\n",
       "    </tr>\n",
       "    <tr>\n",
       "      <th>2</th>\n",
       "      <td>2000-03-01</td>\n",
       "      <td>145.400</td>\n",
       "    </tr>\n",
       "    <tr>\n",
       "      <th>3</th>\n",
       "      <td>2000-04-01</td>\n",
       "      <td>145.600</td>\n",
       "    </tr>\n",
       "    <tr>\n",
       "      <th>4</th>\n",
       "      <td>2000-05-01</td>\n",
       "      <td>144.900</td>\n",
       "    </tr>\n",
       "    <tr>\n",
       "      <th>...</th>\n",
       "      <td>...</td>\n",
       "      <td>...</td>\n",
       "    </tr>\n",
       "    <tr>\n",
       "      <th>278</th>\n",
       "      <td>2023-03-01</td>\n",
       "      <td>331.729</td>\n",
       "    </tr>\n",
       "    <tr>\n",
       "      <th>279</th>\n",
       "      <td>2023-04-01</td>\n",
       "      <td>333.549</td>\n",
       "    </tr>\n",
       "    <tr>\n",
       "      <th>280</th>\n",
       "      <td>2023-05-01</td>\n",
       "      <td>338.154</td>\n",
       "    </tr>\n",
       "    <tr>\n",
       "      <th>281</th>\n",
       "      <td>2023-06-01</td>\n",
       "      <td>337.953</td>\n",
       "    </tr>\n",
       "    <tr>\n",
       "      <th>282</th>\n",
       "      <td>2023-07-01</td>\n",
       "      <td>331.786</td>\n",
       "    </tr>\n",
       "  </tbody>\n",
       "</table>\n",
       "<p>283 rows × 2 columns</p>\n",
       "</div>"
      ],
      "text/plain": [
       "           DATE  WPUSI012011\n",
       "0    2000-01-01      144.100\n",
       "1    2000-02-01      144.700\n",
       "2    2000-03-01      145.400\n",
       "3    2000-04-01      145.600\n",
       "4    2000-05-01      144.900\n",
       "..          ...          ...\n",
       "278  2023-03-01      331.729\n",
       "279  2023-04-01      333.549\n",
       "280  2023-05-01      338.154\n",
       "281  2023-06-01      337.953\n",
       "282  2023-07-01      331.786\n",
       "\n",
       "[283 rows x 2 columns]"
      ]
     },
     "execution_count": 467,
     "metadata": {},
     "output_type": "execute_result"
    }
   ],
   "source": [
    "ppi = pd.read_csv(\"data/supply/producer price index.csv\")\n",
    "ppi"
   ]
  },
  {
   "cell_type": "code",
   "execution_count": 468,
   "id": "70457ad7",
   "metadata": {},
   "outputs": [],
   "source": [
    "ppi.rename(columns = {\"WPUSI012011\":\"ppi\"}, inplace = True)"
   ]
  },
  {
   "cell_type": "code",
   "execution_count": 469,
   "id": "06ffbf51",
   "metadata": {},
   "outputs": [],
   "source": [
    "ppi['Date'] = pd.to_datetime(ppi['DATE'])\n",
    "ppi.drop([\"DATE\"], axis = 1, inplace = True)"
   ]
  },
  {
   "cell_type": "code",
   "execution_count": 470,
   "id": "a718a097",
   "metadata": {},
   "outputs": [
    {
     "data": {
      "text/html": [
       "<div>\n",
       "<style scoped>\n",
       "    .dataframe tbody tr th:only-of-type {\n",
       "        vertical-align: middle;\n",
       "    }\n",
       "\n",
       "    .dataframe tbody tr th {\n",
       "        vertical-align: top;\n",
       "    }\n",
       "\n",
       "    .dataframe thead th {\n",
       "        text-align: right;\n",
       "    }\n",
       "</style>\n",
       "<table border=\"1\" class=\"dataframe\">\n",
       "  <thead>\n",
       "    <tr style=\"text-align: right;\">\n",
       "      <th></th>\n",
       "      <th>ppi</th>\n",
       "      <th>Date</th>\n",
       "    </tr>\n",
       "  </thead>\n",
       "  <tbody>\n",
       "    <tr>\n",
       "      <th>0</th>\n",
       "      <td>144.1</td>\n",
       "      <td>2000-01-01</td>\n",
       "    </tr>\n",
       "    <tr>\n",
       "      <th>1</th>\n",
       "      <td>144.7</td>\n",
       "      <td>2000-02-01</td>\n",
       "    </tr>\n",
       "    <tr>\n",
       "      <th>2</th>\n",
       "      <td>145.4</td>\n",
       "      <td>2000-03-01</td>\n",
       "    </tr>\n",
       "    <tr>\n",
       "      <th>3</th>\n",
       "      <td>145.6</td>\n",
       "      <td>2000-04-01</td>\n",
       "    </tr>\n",
       "    <tr>\n",
       "      <th>4</th>\n",
       "      <td>144.9</td>\n",
       "      <td>2000-05-01</td>\n",
       "    </tr>\n",
       "  </tbody>\n",
       "</table>\n",
       "</div>"
      ],
      "text/plain": [
       "     ppi       Date\n",
       "0  144.1 2000-01-01\n",
       "1  144.7 2000-02-01\n",
       "2  145.4 2000-03-01\n",
       "3  145.6 2000-04-01\n",
       "4  144.9 2000-05-01"
      ]
     },
     "execution_count": 470,
     "metadata": {},
     "output_type": "execute_result"
    }
   ],
   "source": [
    "ppi.head()"
   ]
  },
  {
   "cell_type": "code",
   "execution_count": 471,
   "id": "8916e927",
   "metadata": {},
   "outputs": [
    {
     "data": {
      "text/plain": [
       "Timestamp('2023-07-01 00:00:00')"
      ]
     },
     "execution_count": 471,
     "metadata": {},
     "output_type": "execute_result"
    }
   ],
   "source": [
    "ppi[\"Date\"].max()"
   ]
  },
  {
   "cell_type": "code",
   "execution_count": 472,
   "id": "4946a446",
   "metadata": {},
   "outputs": [
    {
     "data": {
      "text/plain": [
       "Timestamp('2000-01-01 00:00:00')"
      ]
     },
     "execution_count": 472,
     "metadata": {},
     "output_type": "execute_result"
    }
   ],
   "source": [
    "ppi[\"Date\"].min()"
   ]
  },
  {
   "cell_type": "markdown",
   "id": "dd74333b",
   "metadata": {},
   "source": [
    "### Merging all Supply Data"
   ]
  },
  {
   "cell_type": "code",
   "execution_count": 473,
   "id": "491f8caf",
   "metadata": {},
   "outputs": [],
   "source": [
    "merged_df = pd.merge(merged_df, avg_sales_price, on='Date', how='left')\n",
    "merged_df = pd.merge(merged_df, monthly_new_houses, on='Date', how='left')\n",
    "merged_df = pd.merge(merged_df, new_houses_authorized, on='Date', how='left')\n",
    "merged_df = pd.merge(merged_df, new_houses_completed, on='Date', how='left')\n",
    "merged_df = pd.merge(merged_df, ppi, on='Date', how='left')"
   ]
  },
  {
   "cell_type": "code",
   "execution_count": 474,
   "id": "5a1701e4",
   "metadata": {},
   "outputs": [
    {
     "data": {
      "text/html": [
       "<div>\n",
       "<style scoped>\n",
       "    .dataframe tbody tr th:only-of-type {\n",
       "        vertical-align: middle;\n",
       "    }\n",
       "\n",
       "    .dataframe tbody tr th {\n",
       "        vertical-align: top;\n",
       "    }\n",
       "\n",
       "    .dataframe thead th {\n",
       "        text-align: right;\n",
       "    }\n",
       "</style>\n",
       "<table border=\"1\" class=\"dataframe\">\n",
       "  <thead>\n",
       "    <tr style=\"text-align: right;\">\n",
       "      <th></th>\n",
       "      <th>HPI</th>\n",
       "      <th>Date</th>\n",
       "      <th>InterestDiscount</th>\n",
       "      <th>Avg Mortgage</th>\n",
       "      <th>gdp</th>\n",
       "      <th>Cons. Sentiment Index</th>\n",
       "      <th>cpi</th>\n",
       "      <th>population</th>\n",
       "      <th>employed population</th>\n",
       "      <th>avg house sales price</th>\n",
       "      <th>monthly new houses</th>\n",
       "      <th>new houses authorized</th>\n",
       "      <th>new houses completed</th>\n",
       "      <th>ppi</th>\n",
       "    </tr>\n",
       "  </thead>\n",
       "  <tbody>\n",
       "    <tr>\n",
       "      <th>0</th>\n",
       "      <td>100.000</td>\n",
       "      <td>2000-01-01</td>\n",
       "      <td>5.00</td>\n",
       "      <td>8.2100</td>\n",
       "      <td>45983.0</td>\n",
       "      <td>112.0</td>\n",
       "      <td>0.297089</td>\n",
       "      <td>211410</td>\n",
       "      <td>136559</td>\n",
       "      <td>202900.0</td>\n",
       "      <td>4.3</td>\n",
       "      <td>1727.0</td>\n",
       "      <td>1574.0</td>\n",
       "      <td>144.100</td>\n",
       "    </tr>\n",
       "    <tr>\n",
       "      <th>1</th>\n",
       "      <td>100.571</td>\n",
       "      <td>2000-02-01</td>\n",
       "      <td>5.24</td>\n",
       "      <td>8.3250</td>\n",
       "      <td>NaN</td>\n",
       "      <td>111.3</td>\n",
       "      <td>0.592417</td>\n",
       "      <td>211576</td>\n",
       "      <td>136598</td>\n",
       "      <td>NaN</td>\n",
       "      <td>4.3</td>\n",
       "      <td>1692.0</td>\n",
       "      <td>1677.0</td>\n",
       "      <td>144.700</td>\n",
       "    </tr>\n",
       "    <tr>\n",
       "      <th>2</th>\n",
       "      <td>101.466</td>\n",
       "      <td>2000-03-01</td>\n",
       "      <td>5.34</td>\n",
       "      <td>8.2400</td>\n",
       "      <td>NaN</td>\n",
       "      <td>107.1</td>\n",
       "      <td>0.824499</td>\n",
       "      <td>211772</td>\n",
       "      <td>136701</td>\n",
       "      <td>NaN</td>\n",
       "      <td>4.3</td>\n",
       "      <td>1651.0</td>\n",
       "      <td>1704.0</td>\n",
       "      <td>145.400</td>\n",
       "    </tr>\n",
       "    <tr>\n",
       "      <th>3</th>\n",
       "      <td>102.540</td>\n",
       "      <td>2000-04-01</td>\n",
       "      <td>5.50</td>\n",
       "      <td>8.1525</td>\n",
       "      <td>46704.0</td>\n",
       "      <td>109.2</td>\n",
       "      <td>0.058411</td>\n",
       "      <td>212018</td>\n",
       "      <td>137270</td>\n",
       "      <td>202400.0</td>\n",
       "      <td>4.4</td>\n",
       "      <td>1597.0</td>\n",
       "      <td>1610.0</td>\n",
       "      <td>145.600</td>\n",
       "    </tr>\n",
       "    <tr>\n",
       "      <th>4</th>\n",
       "      <td>103.701</td>\n",
       "      <td>2000-05-01</td>\n",
       "      <td>5.71</td>\n",
       "      <td>8.5150</td>\n",
       "      <td>NaN</td>\n",
       "      <td>110.7</td>\n",
       "      <td>0.116754</td>\n",
       "      <td>212242</td>\n",
       "      <td>136630</td>\n",
       "      <td>NaN</td>\n",
       "      <td>4.4</td>\n",
       "      <td>1543.0</td>\n",
       "      <td>1682.0</td>\n",
       "      <td>144.900</td>\n",
       "    </tr>\n",
       "    <tr>\n",
       "      <th>...</th>\n",
       "      <td>...</td>\n",
       "      <td>...</td>\n",
       "      <td>...</td>\n",
       "      <td>...</td>\n",
       "      <td>...</td>\n",
       "      <td>...</td>\n",
       "      <td>...</td>\n",
       "      <td>...</td>\n",
       "      <td>...</td>\n",
       "      <td>...</td>\n",
       "      <td>...</td>\n",
       "      <td>...</td>\n",
       "      <td>...</td>\n",
       "      <td>...</td>\n",
       "    </tr>\n",
       "    <tr>\n",
       "      <th>277</th>\n",
       "      <td>293.341</td>\n",
       "      <td>2023-02-01</td>\n",
       "      <td>NaN</td>\n",
       "      <td>6.2575</td>\n",
       "      <td>NaN</td>\n",
       "      <td>67.0</td>\n",
       "      <td>0.558211</td>\n",
       "      <td>266112</td>\n",
       "      <td>160315</td>\n",
       "      <td>NaN</td>\n",
       "      <td>8.4</td>\n",
       "      <td>1482.0</td>\n",
       "      <td>1577.0</td>\n",
       "      <td>330.532</td>\n",
       "    </tr>\n",
       "    <tr>\n",
       "      <th>278</th>\n",
       "      <td>297.127</td>\n",
       "      <td>2023-03-01</td>\n",
       "      <td>NaN</td>\n",
       "      <td>6.5440</td>\n",
       "      <td>NaN</td>\n",
       "      <td>62.0</td>\n",
       "      <td>0.331073</td>\n",
       "      <td>266272</td>\n",
       "      <td>160892</td>\n",
       "      <td>NaN</td>\n",
       "      <td>8.1</td>\n",
       "      <td>1437.0</td>\n",
       "      <td>1528.0</td>\n",
       "      <td>331.729</td>\n",
       "    </tr>\n",
       "    <tr>\n",
       "      <th>279</th>\n",
       "      <td>301.457</td>\n",
       "      <td>2023-04-01</td>\n",
       "      <td>NaN</td>\n",
       "      <td>6.3425</td>\n",
       "      <td>60852.0</td>\n",
       "      <td>63.5</td>\n",
       "      <td>0.505904</td>\n",
       "      <td>266443</td>\n",
       "      <td>161031</td>\n",
       "      <td>495100.0</td>\n",
       "      <td>7.6</td>\n",
       "      <td>1417.0</td>\n",
       "      <td>1416.0</td>\n",
       "      <td>333.549</td>\n",
       "    </tr>\n",
       "    <tr>\n",
       "      <th>280</th>\n",
       "      <td>305.402</td>\n",
       "      <td>2023-05-01</td>\n",
       "      <td>NaN</td>\n",
       "      <td>6.4250</td>\n",
       "      <td>NaN</td>\n",
       "      <td>59.2</td>\n",
       "      <td>0.251844</td>\n",
       "      <td>266618</td>\n",
       "      <td>160721</td>\n",
       "      <td>NaN</td>\n",
       "      <td>7.3</td>\n",
       "      <td>1496.0</td>\n",
       "      <td>1534.0</td>\n",
       "      <td>338.154</td>\n",
       "    </tr>\n",
       "    <tr>\n",
       "      <th>281</th>\n",
       "      <td>308.254</td>\n",
       "      <td>2023-06-01</td>\n",
       "      <td>NaN</td>\n",
       "      <td>6.7140</td>\n",
       "      <td>NaN</td>\n",
       "      <td>64.4</td>\n",
       "      <td>0.322891</td>\n",
       "      <td>266801</td>\n",
       "      <td>160994</td>\n",
       "      <td>NaN</td>\n",
       "      <td>7.5</td>\n",
       "      <td>1441.0</td>\n",
       "      <td>1498.0</td>\n",
       "      <td>337.953</td>\n",
       "    </tr>\n",
       "  </tbody>\n",
       "</table>\n",
       "<p>282 rows × 14 columns</p>\n",
       "</div>"
      ],
      "text/plain": [
       "         HPI       Date  InterestDiscount  Avg Mortgage      gdp  \\\n",
       "0    100.000 2000-01-01              5.00        8.2100  45983.0   \n",
       "1    100.571 2000-02-01              5.24        8.3250      NaN   \n",
       "2    101.466 2000-03-01              5.34        8.2400      NaN   \n",
       "3    102.540 2000-04-01              5.50        8.1525  46704.0   \n",
       "4    103.701 2000-05-01              5.71        8.5150      NaN   \n",
       "..       ...        ...               ...           ...      ...   \n",
       "277  293.341 2023-02-01               NaN        6.2575      NaN   \n",
       "278  297.127 2023-03-01               NaN        6.5440      NaN   \n",
       "279  301.457 2023-04-01               NaN        6.3425  60852.0   \n",
       "280  305.402 2023-05-01               NaN        6.4250      NaN   \n",
       "281  308.254 2023-06-01               NaN        6.7140      NaN   \n",
       "\n",
       "     Cons. Sentiment Index       cpi  population  employed population  \\\n",
       "0                    112.0  0.297089      211410               136559   \n",
       "1                    111.3  0.592417      211576               136598   \n",
       "2                    107.1  0.824499      211772               136701   \n",
       "3                    109.2  0.058411      212018               137270   \n",
       "4                    110.7  0.116754      212242               136630   \n",
       "..                     ...       ...         ...                  ...   \n",
       "277                   67.0  0.558211      266112               160315   \n",
       "278                   62.0  0.331073      266272               160892   \n",
       "279                   63.5  0.505904      266443               161031   \n",
       "280                   59.2  0.251844      266618               160721   \n",
       "281                   64.4  0.322891      266801               160994   \n",
       "\n",
       "     avg house sales price  monthly new houses  new houses authorized  \\\n",
       "0                 202900.0                 4.3                 1727.0   \n",
       "1                      NaN                 4.3                 1692.0   \n",
       "2                      NaN                 4.3                 1651.0   \n",
       "3                 202400.0                 4.4                 1597.0   \n",
       "4                      NaN                 4.4                 1543.0   \n",
       "..                     ...                 ...                    ...   \n",
       "277                    NaN                 8.4                 1482.0   \n",
       "278                    NaN                 8.1                 1437.0   \n",
       "279               495100.0                 7.6                 1417.0   \n",
       "280                    NaN                 7.3                 1496.0   \n",
       "281                    NaN                 7.5                 1441.0   \n",
       "\n",
       "     new houses completed      ppi  \n",
       "0                  1574.0  144.100  \n",
       "1                  1677.0  144.700  \n",
       "2                  1704.0  145.400  \n",
       "3                  1610.0  145.600  \n",
       "4                  1682.0  144.900  \n",
       "..                    ...      ...  \n",
       "277                1577.0  330.532  \n",
       "278                1528.0  331.729  \n",
       "279                1416.0  333.549  \n",
       "280                1534.0  338.154  \n",
       "281                1498.0  337.953  \n",
       "\n",
       "[282 rows x 14 columns]"
      ]
     },
     "execution_count": 474,
     "metadata": {},
     "output_type": "execute_result"
    }
   ],
   "source": [
    "merged_df"
   ]
  },
  {
   "cell_type": "code",
   "execution_count": 475,
   "id": "5cdb8021",
   "metadata": {},
   "outputs": [],
   "source": [
    "merged_df.to_csv(\"Complete_data_unclean.csv\")"
   ]
  },
  {
   "cell_type": "code",
   "execution_count": 476,
   "id": "d9548edd",
   "metadata": {},
   "outputs": [],
   "source": [
    "merged_data = pd.read_csv(\"complete_data_unclean.csv\")"
   ]
  },
  {
   "cell_type": "code",
   "execution_count": 477,
   "id": "c3d6d951",
   "metadata": {},
   "outputs": [
    {
     "name": "stdout",
     "output_type": "stream",
     "text": [
      "<class 'pandas.core.frame.DataFrame'>\n",
      "Int64Index: 282 entries, 0 to 281\n",
      "Data columns (total 14 columns):\n",
      " #   Column                 Non-Null Count  Dtype         \n",
      "---  ------                 --------------  -----         \n",
      " 0   HPI                    282 non-null    float64       \n",
      " 1   Date                   282 non-null    datetime64[ns]\n",
      " 2   InterestDiscount       260 non-null    float64       \n",
      " 3   Avg Mortgage           282 non-null    float64       \n",
      " 4   gdp                    94 non-null     float64       \n",
      " 5   Cons. Sentiment Index  282 non-null    float64       \n",
      " 6   cpi                    282 non-null    float64       \n",
      " 7   population             282 non-null    int64         \n",
      " 8   employed population    282 non-null    int64         \n",
      " 9   avg house sales price  94 non-null     float64       \n",
      " 10  monthly new houses     282 non-null    float64       \n",
      " 11  new houses authorized  282 non-null    float64       \n",
      " 12  new houses completed   282 non-null    float64       \n",
      " 13  ppi                    282 non-null    float64       \n",
      "dtypes: datetime64[ns](1), float64(11), int64(2)\n",
      "memory usage: 33.0 KB\n"
     ]
    }
   ],
   "source": [
    "merged_df.info()"
   ]
  },
  {
   "cell_type": "markdown",
   "id": "3815cf8c",
   "metadata": {},
   "source": [
    "### Things to be done to deal with missing data:\n",
    "- need to fill na in InterestDiscount\n",
    "- Interpolate gdp(quaterly to monthly)\n",
    "- Interpolate avg house sales price(quaterly to monthly)"
   ]
  },
  {
   "cell_type": "markdown",
   "id": "abefa760",
   "metadata": {},
   "source": [
    "**Since we have time series data we will use time based interpolation**"
   ]
  },
  {
   "cell_type": "code",
   "execution_count": 478,
   "id": "cecbf08c",
   "metadata": {},
   "outputs": [],
   "source": [
    "merged_df = merged_df.set_index(merged_df[\"Date\"], drop = False)"
   ]
  },
  {
   "cell_type": "code",
   "execution_count": 479,
   "id": "69d98694",
   "metadata": {},
   "outputs": [],
   "source": [
    "merged_df[\"gdp\"] = merged_df[\"gdp\"].interpolate(method='time')"
   ]
  },
  {
   "cell_type": "code",
   "execution_count": 480,
   "id": "ef35fa36",
   "metadata": {},
   "outputs": [],
   "source": [
    "merged_df[\"InterestDiscount\"] = merged_df[\"InterestDiscount\"].interpolate(method='time')"
   ]
  },
  {
   "cell_type": "code",
   "execution_count": 481,
   "id": "12ad8d21",
   "metadata": {},
   "outputs": [],
   "source": [
    "merged_df[\"avg house sales price\"] = merged_df[\"avg house sales price\"].interpolate(method='time')"
   ]
  },
  {
   "cell_type": "code",
   "execution_count": 482,
   "id": "a86b3972",
   "metadata": {},
   "outputs": [
    {
     "name": "stdout",
     "output_type": "stream",
     "text": [
      "<class 'pandas.core.frame.DataFrame'>\n",
      "DatetimeIndex: 282 entries, 2000-01-01 to 2023-06-01\n",
      "Data columns (total 14 columns):\n",
      " #   Column                 Non-Null Count  Dtype         \n",
      "---  ------                 --------------  -----         \n",
      " 0   HPI                    282 non-null    float64       \n",
      " 1   Date                   282 non-null    datetime64[ns]\n",
      " 2   InterestDiscount       282 non-null    float64       \n",
      " 3   Avg Mortgage           282 non-null    float64       \n",
      " 4   gdp                    282 non-null    float64       \n",
      " 5   Cons. Sentiment Index  282 non-null    float64       \n",
      " 6   cpi                    282 non-null    float64       \n",
      " 7   population             282 non-null    int64         \n",
      " 8   employed population    282 non-null    int64         \n",
      " 9   avg house sales price  282 non-null    float64       \n",
      " 10  monthly new houses     282 non-null    float64       \n",
      " 11  new houses authorized  282 non-null    float64       \n",
      " 12  new houses completed   282 non-null    float64       \n",
      " 13  ppi                    282 non-null    float64       \n",
      "dtypes: datetime64[ns](1), float64(11), int64(2)\n",
      "memory usage: 33.0 KB\n"
     ]
    }
   ],
   "source": [
    "merged_df.info()"
   ]
  },
  {
   "cell_type": "code",
   "execution_count": 483,
   "id": "c9bc2558",
   "metadata": {},
   "outputs": [],
   "source": [
    "merged_df.to_csv(\"Complete_data.csv\")"
   ]
  },
  {
   "cell_type": "code",
   "execution_count": 484,
   "id": "99c8fa1b",
   "metadata": {},
   "outputs": [
    {
     "data": {
      "text/plain": [
       "HPI                      0\n",
       "Date                     0\n",
       "InterestDiscount         0\n",
       "Avg Mortgage             0\n",
       "gdp                      0\n",
       "Cons. Sentiment Index    0\n",
       "cpi                      0\n",
       "population               0\n",
       "employed population      0\n",
       "avg house sales price    0\n",
       "monthly new houses       0\n",
       "new houses authorized    0\n",
       "new houses completed     0\n",
       "ppi                      0\n",
       "dtype: int64"
      ]
     },
     "execution_count": 484,
     "metadata": {},
     "output_type": "execute_result"
    }
   ],
   "source": [
    "merged_df.isna().sum()"
   ]
  },
  {
   "cell_type": "markdown",
   "id": "1e745e30",
   "metadata": {},
   "source": [
    "### We have complete dataset now"
   ]
  },
  {
   "cell_type": "code",
   "execution_count": null,
   "id": "8dae74a7",
   "metadata": {},
   "outputs": [],
   "source": []
  }
 ],
 "metadata": {
  "kernelspec": {
   "display_name": "tf_test",
   "language": "python",
   "name": "tf_test"
  },
  "language_info": {
   "codemirror_mode": {
    "name": "ipython",
    "version": 3
   },
   "file_extension": ".py",
   "mimetype": "text/x-python",
   "name": "python",
   "nbconvert_exporter": "python",
   "pygments_lexer": "ipython3",
   "version": "3.6.13"
  }
 },
 "nbformat": 4,
 "nbformat_minor": 5
}
